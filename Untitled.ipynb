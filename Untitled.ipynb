{
 "cells": [
  {
   "cell_type": "code",
   "execution_count": 1,
   "id": "396e9380-11b9-41e7-9d2a-0545c709fd95",
   "metadata": {},
   "outputs": [],
   "source": [
    "import pandas as pd\n",
    "import numpy as np\n",
    "import plotly.express as px\n",
    "import plotly.graph_objects as go\n",
    "pd.options.display.float_format = '{:,.2f}'.format"
   ]
  },
  {
   "cell_type": "code",
   "execution_count": 153,
   "id": "15a6a565-1931-4d04-9165-9d1039cb075c",
   "metadata": {},
   "outputs": [
    {
     "data": {
      "text/html": [
       "<div>\n",
       "<style scoped>\n",
       "    .dataframe tbody tr th:only-of-type {\n",
       "        vertical-align: middle;\n",
       "    }\n",
       "\n",
       "    .dataframe tbody tr th {\n",
       "        vertical-align: top;\n",
       "    }\n",
       "\n",
       "    .dataframe thead th {\n",
       "        text-align: right;\n",
       "    }\n",
       "</style>\n",
       "<table border=\"1\" class=\"dataframe\">\n",
       "  <thead>\n",
       "    <tr style=\"text-align: right;\">\n",
       "      <th></th>\n",
       "      <th>Occurrence</th>\n",
       "      <th>Sector</th>\n",
       "      <th>Product</th>\n",
       "      <th>Indicator</th>\n",
       "      <th>Value</th>\n",
       "    </tr>\n",
       "  </thead>\n",
       "  <tbody>\n",
       "    <tr>\n",
       "      <th>0</th>\n",
       "      <td>2010/2011</td>\n",
       "      <td>Citrus</td>\n",
       "      <td>Other citrus fruits</td>\n",
       "      <td>Production-T (Tons)</td>\n",
       "      <td>2,537.85</td>\n",
       "    </tr>\n",
       "    <tr>\n",
       "      <th>1</th>\n",
       "      <td>2010/2011</td>\n",
       "      <td>Citrus</td>\n",
       "      <td>Other citrus fruits</td>\n",
       "      <td>Area (Ha)</td>\n",
       "      <td>488.96</td>\n",
       "    </tr>\n",
       "    <tr>\n",
       "      <th>2</th>\n",
       "      <td>2010/2011</td>\n",
       "      <td>Citrus</td>\n",
       "      <td>Lemon</td>\n",
       "      <td>Production-T (Tons)</td>\n",
       "      <td>93,176.72</td>\n",
       "    </tr>\n",
       "    <tr>\n",
       "      <th>3</th>\n",
       "      <td>2010/2011</td>\n",
       "      <td>Citrus</td>\n",
       "      <td>Lemon</td>\n",
       "      <td>Area (Ha)</td>\n",
       "      <td>2,834.23</td>\n",
       "    </tr>\n",
       "    <tr>\n",
       "      <th>4</th>\n",
       "      <td>2010/2011</td>\n",
       "      <td>Citrus</td>\n",
       "      <td>Orange_Others</td>\n",
       "      <td>Production-T (Tons)</td>\n",
       "      <td>25,951.90</td>\n",
       "    </tr>\n",
       "    <tr>\n",
       "      <th>...</th>\n",
       "      <td>...</td>\n",
       "      <td>...</td>\n",
       "      <td>...</td>\n",
       "      <td>...</td>\n",
       "      <td>...</td>\n",
       "    </tr>\n",
       "    <tr>\n",
       "      <th>2176</th>\n",
       "      <td>2019/2020</td>\n",
       "      <td>sugar fields</td>\n",
       "      <td>Sugar cane</td>\n",
       "      <td>Area (Ha)</td>\n",
       "      <td>11,763.00</td>\n",
       "    </tr>\n",
       "    <tr>\n",
       "      <th>2177</th>\n",
       "      <td>2019/2020</td>\n",
       "      <td>vines</td>\n",
       "      <td>wine grape</td>\n",
       "      <td>Production-T (Tons)</td>\n",
       "      <td>120,576.00</td>\n",
       "    </tr>\n",
       "    <tr>\n",
       "      <th>2178</th>\n",
       "      <td>2019/2020</td>\n",
       "      <td>vines</td>\n",
       "      <td>wine grape</td>\n",
       "      <td>Area (Ha)</td>\n",
       "      <td>6,312.90</td>\n",
       "    </tr>\n",
       "    <tr>\n",
       "      <th>2179</th>\n",
       "      <td>2019/2020</td>\n",
       "      <td>vines</td>\n",
       "      <td>table grape</td>\n",
       "      <td>Production-T (Tons)</td>\n",
       "      <td>276,326.80</td>\n",
       "    </tr>\n",
       "    <tr>\n",
       "      <th>2180</th>\n",
       "      <td>2019/2020</td>\n",
       "      <td>vines</td>\n",
       "      <td>table grape</td>\n",
       "      <td>Area (Ha)</td>\n",
       "      <td>33,091.70</td>\n",
       "    </tr>\n",
       "  </tbody>\n",
       "</table>\n",
       "<p>2181 rows × 5 columns</p>\n",
       "</div>"
      ],
      "text/plain": [
       "     Occurrence        Sector              Product            Indicator  \\\n",
       "0     2010/2011        Citrus  Other citrus fruits  Production-T (Tons)   \n",
       "1     2010/2011        Citrus  Other citrus fruits            Area (Ha)   \n",
       "2     2010/2011        Citrus                Lemon  Production-T (Tons)   \n",
       "3     2010/2011        Citrus                Lemon            Area (Ha)   \n",
       "4     2010/2011        Citrus        Orange_Others  Production-T (Tons)   \n",
       "...         ...           ...                  ...                  ...   \n",
       "2176  2019/2020  sugar fields           Sugar cane            Area (Ha)   \n",
       "2177  2019/2020         vines           wine grape  Production-T (Tons)   \n",
       "2178  2019/2020         vines           wine grape            Area (Ha)   \n",
       "2179  2019/2020         vines          table grape  Production-T (Tons)   \n",
       "2180  2019/2020         vines          table grape            Area (Ha)   \n",
       "\n",
       "          Value  \n",
       "0      2,537.85  \n",
       "1        488.96  \n",
       "2     93,176.72  \n",
       "3      2,834.23  \n",
       "4     25,951.90  \n",
       "...         ...  \n",
       "2176  11,763.00  \n",
       "2177 120,576.00  \n",
       "2178   6,312.90  \n",
       "2179 276,326.80  \n",
       "2180  33,091.70  \n",
       "\n",
       "[2181 rows x 5 columns]"
      ]
     },
     "execution_count": 153,
     "metadata": {},
     "output_type": "execute_result"
    }
   ],
   "source": [
    "raw_data = pd.read_excel('Agriculture_production-2010-2020.xlsx',sheet_name='Feuil1')\n",
    "raw_data = raw_data.rename(columns={'Value ': 'Value'})\n",
    "raw_data"
   ]
  },
  {
   "cell_type": "code",
   "execution_count": 154,
   "id": "21b5fdef-3ff2-47cf-b2ea-8848e0c4426d",
   "metadata": {},
   "outputs": [
    {
     "data": {
      "text/html": [
       "<div>\n",
       "<style scoped>\n",
       "    .dataframe tbody tr th:only-of-type {\n",
       "        vertical-align: middle;\n",
       "    }\n",
       "\n",
       "    .dataframe tbody tr th {\n",
       "        vertical-align: top;\n",
       "    }\n",
       "\n",
       "    .dataframe thead th {\n",
       "        text-align: right;\n",
       "    }\n",
       "</style>\n",
       "<table border=\"1\" class=\"dataframe\">\n",
       "  <thead>\n",
       "    <tr style=\"text-align: right;\">\n",
       "      <th></th>\n",
       "      <th>Occurrence</th>\n",
       "      <th>Sector</th>\n",
       "      <th>Product</th>\n",
       "      <th>Area (Ha)</th>\n",
       "      <th>Production-T (Tons)</th>\n",
       "    </tr>\n",
       "  </thead>\n",
       "  <tbody>\n",
       "    <tr>\n",
       "      <th>0</th>\n",
       "      <td>2010/2011</td>\n",
       "      <td>Cereals</td>\n",
       "      <td>Barley</td>\n",
       "      <td>2,025,897.69</td>\n",
       "      <td>2,317,611.45</td>\n",
       "    </tr>\n",
       "    <tr>\n",
       "      <th>1</th>\n",
       "      <td>2010/2011</td>\n",
       "      <td>Cereals</td>\n",
       "      <td>Durum wheat</td>\n",
       "      <td>957,200.00</td>\n",
       "      <td>1,847,957.93</td>\n",
       "    </tr>\n",
       "    <tr>\n",
       "      <th>2</th>\n",
       "      <td>2010/2011</td>\n",
       "      <td>Cereals</td>\n",
       "      <td>Other cereals</td>\n",
       "      <td>3,200.00</td>\n",
       "      <td>2,740.00</td>\n",
       "    </tr>\n",
       "    <tr>\n",
       "      <th>3</th>\n",
       "      <td>2010/2011</td>\n",
       "      <td>Cereals</td>\n",
       "      <td>Rice</td>\n",
       "      <td>2,550.00</td>\n",
       "      <td>17,840.00</td>\n",
       "    </tr>\n",
       "    <tr>\n",
       "      <th>4</th>\n",
       "      <td>2010/2011</td>\n",
       "      <td>Cereals</td>\n",
       "      <td>Soft wheat</td>\n",
       "      <td>2,131,000.00</td>\n",
       "      <td>4,169,864.72</td>\n",
       "    </tr>\n",
       "    <tr>\n",
       "      <th>...</th>\n",
       "      <td>...</td>\n",
       "      <td>...</td>\n",
       "      <td>...</td>\n",
       "      <td>...</td>\n",
       "      <td>...</td>\n",
       "    </tr>\n",
       "    <tr>\n",
       "      <th>1080</th>\n",
       "      <td>2019/2020</td>\n",
       "      <td>olive trees</td>\n",
       "      <td>Olivier</td>\n",
       "      <td>1,068,894.52</td>\n",
       "      <td>1,409,266.45</td>\n",
       "    </tr>\n",
       "    <tr>\n",
       "      <th>1081</th>\n",
       "      <td>2019/2020</td>\n",
       "      <td>sugar fields</td>\n",
       "      <td>Sugar beet</td>\n",
       "      <td>57,588.80</td>\n",
       "      <td>3,631,553.60</td>\n",
       "    </tr>\n",
       "    <tr>\n",
       "      <th>1082</th>\n",
       "      <td>2019/2020</td>\n",
       "      <td>sugar fields</td>\n",
       "      <td>Sugar cane</td>\n",
       "      <td>11,763.00</td>\n",
       "      <td>792,492.00</td>\n",
       "    </tr>\n",
       "    <tr>\n",
       "      <th>1083</th>\n",
       "      <td>2019/2020</td>\n",
       "      <td>vines</td>\n",
       "      <td>table grape</td>\n",
       "      <td>33,091.70</td>\n",
       "      <td>276,326.80</td>\n",
       "    </tr>\n",
       "    <tr>\n",
       "      <th>1084</th>\n",
       "      <td>2019/2020</td>\n",
       "      <td>vines</td>\n",
       "      <td>wine grape</td>\n",
       "      <td>6,312.90</td>\n",
       "      <td>120,576.00</td>\n",
       "    </tr>\n",
       "  </tbody>\n",
       "</table>\n",
       "<p>1085 rows × 5 columns</p>\n",
       "</div>"
      ],
      "text/plain": [
       "     Occurrence        Sector        Product    Area (Ha)  Production-T (Tons)\n",
       "0     2010/2011       Cereals         Barley 2,025,897.69         2,317,611.45\n",
       "1     2010/2011       Cereals    Durum wheat   957,200.00         1,847,957.93\n",
       "2     2010/2011       Cereals  Other cereals     3,200.00             2,740.00\n",
       "3     2010/2011       Cereals           Rice     2,550.00            17,840.00\n",
       "4     2010/2011       Cereals     Soft wheat 2,131,000.00         4,169,864.72\n",
       "...         ...           ...            ...          ...                  ...\n",
       "1080  2019/2020   olive trees        Olivier 1,068,894.52         1,409,266.45\n",
       "1081  2019/2020  sugar fields     Sugar beet    57,588.80         3,631,553.60\n",
       "1082  2019/2020  sugar fields     Sugar cane    11,763.00           792,492.00\n",
       "1083  2019/2020         vines    table grape    33,091.70           276,326.80\n",
       "1084  2019/2020         vines     wine grape     6,312.90           120,576.00\n",
       "\n",
       "[1085 rows x 5 columns]"
      ]
     },
     "execution_count": 154,
     "metadata": {},
     "output_type": "execute_result"
    }
   ],
   "source": [
    "#minor data preprocessing\n",
    "df = raw_data.pivot_table(index=['Occurrence', 'Sector','Product'], \n",
    "                     columns='Indicator', values='Value').reset_index()\n",
    "df = df.fillna(0)\n",
    "df = df.rename_axis(None, axis=1)\n",
    "df"
   ]
  },
  {
   "cell_type": "code",
   "execution_count": 155,
   "id": "01b88fbb-3738-4a74-8440-dab1e8eb1ed8",
   "metadata": {},
   "outputs": [
    {
     "data": {
      "text/html": [
       "<div>\n",
       "<style scoped>\n",
       "    .dataframe tbody tr th:only-of-type {\n",
       "        vertical-align: middle;\n",
       "    }\n",
       "\n",
       "    .dataframe tbody tr th {\n",
       "        vertical-align: top;\n",
       "    }\n",
       "\n",
       "    .dataframe thead th {\n",
       "        text-align: right;\n",
       "    }\n",
       "</style>\n",
       "<table border=\"1\" class=\"dataframe\">\n",
       "  <thead>\n",
       "    <tr style=\"text-align: right;\">\n",
       "      <th></th>\n",
       "      <th>Occurrence</th>\n",
       "      <th>Sector</th>\n",
       "      <th>Area (Ha)</th>\n",
       "      <th>Production-T (Tons)</th>\n",
       "    </tr>\n",
       "  </thead>\n",
       "  <tbody>\n",
       "    <tr>\n",
       "      <th>0</th>\n",
       "      <td>2010/2011</td>\n",
       "      <td>Cereals</td>\n",
       "      <td>5,375,845.69</td>\n",
       "      <td>8,621,992.77</td>\n",
       "    </tr>\n",
       "    <tr>\n",
       "      <th>1</th>\n",
       "      <td>2010/2011</td>\n",
       "      <td>Citrus</td>\n",
       "      <td>99,507.01</td>\n",
       "      <td>1,708,021.59</td>\n",
       "    </tr>\n",
       "    <tr>\n",
       "      <th>2</th>\n",
       "      <td>2010/2011</td>\n",
       "      <td>Date palms</td>\n",
       "      <td>54,476.19</td>\n",
       "      <td>102,961.76</td>\n",
       "    </tr>\n",
       "    <tr>\n",
       "      <th>3</th>\n",
       "      <td>2010/2011</td>\n",
       "      <td>Fallow</td>\n",
       "      <td>1,497,814.07</td>\n",
       "      <td>0.00</td>\n",
       "    </tr>\n",
       "    <tr>\n",
       "      <th>4</th>\n",
       "      <td>2010/2011</td>\n",
       "      <td>Industrial</td>\n",
       "      <td>127,186.00</td>\n",
       "      <td>34,646.00</td>\n",
       "    </tr>\n",
       "    <tr>\n",
       "      <th>...</th>\n",
       "      <td>...</td>\n",
       "      <td>...</td>\n",
       "      <td>...</td>\n",
       "      <td>...</td>\n",
       "    </tr>\n",
       "    <tr>\n",
       "      <th>126</th>\n",
       "      <td>2019/2020</td>\n",
       "      <td>fodder</td>\n",
       "      <td>570,203.00</td>\n",
       "      <td>14,461,731.50</td>\n",
       "    </tr>\n",
       "    <tr>\n",
       "      <th>127</th>\n",
       "      <td>2019/2020</td>\n",
       "      <td>market gardening</td>\n",
       "      <td>248,762.60</td>\n",
       "      <td>7,086,171.75</td>\n",
       "    </tr>\n",
       "    <tr>\n",
       "      <th>128</th>\n",
       "      <td>2019/2020</td>\n",
       "      <td>olive trees</td>\n",
       "      <td>1,068,894.52</td>\n",
       "      <td>1,409,266.45</td>\n",
       "    </tr>\n",
       "    <tr>\n",
       "      <th>129</th>\n",
       "      <td>2019/2020</td>\n",
       "      <td>sugar fields</td>\n",
       "      <td>69,351.80</td>\n",
       "      <td>4,424,045.60</td>\n",
       "    </tr>\n",
       "    <tr>\n",
       "      <th>130</th>\n",
       "      <td>2019/2020</td>\n",
       "      <td>vines</td>\n",
       "      <td>39,404.60</td>\n",
       "      <td>396,902.80</td>\n",
       "    </tr>\n",
       "  </tbody>\n",
       "</table>\n",
       "<p>131 rows × 4 columns</p>\n",
       "</div>"
      ],
      "text/plain": [
       "    Occurrence            Sector    Area (Ha)  Production-T (Tons)\n",
       "0    2010/2011           Cereals 5,375,845.69         8,621,992.77\n",
       "1    2010/2011            Citrus    99,507.01         1,708,021.59\n",
       "2    2010/2011        Date palms    54,476.19           102,961.76\n",
       "3    2010/2011            Fallow 1,497,814.07                 0.00\n",
       "4    2010/2011        Industrial   127,186.00            34,646.00\n",
       "..         ...               ...          ...                  ...\n",
       "126  2019/2020            fodder   570,203.00        14,461,731.50\n",
       "127  2019/2020  market gardening   248,762.60         7,086,171.75\n",
       "128  2019/2020       olive trees 1,068,894.52         1,409,266.45\n",
       "129  2019/2020      sugar fields    69,351.80         4,424,045.60\n",
       "130  2019/2020             vines    39,404.60           396,902.80\n",
       "\n",
       "[131 rows x 4 columns]"
      ]
     },
     "execution_count": 155,
     "metadata": {},
     "output_type": "execute_result"
    }
   ],
   "source": [
    "# Use GroupBy() to compute the sum\n",
    "df2 = df[['Occurrence', 'Sector', 'Area (Ha)' ,'Production-T (Tons)']].drop_duplicates().groupby(\n",
    "                                            ['Occurrence','Sector'], sort=False, as_index=False).sum()\n",
    "df2"
   ]
  },
  {
   "cell_type": "code",
   "execution_count": 156,
   "id": "0af698fa-61fd-44d9-910e-c31636d05ab8",
   "metadata": {},
   "outputs": [
    {
     "data": {
      "text/html": [
       "<div>\n",
       "<style scoped>\n",
       "    .dataframe tbody tr th:only-of-type {\n",
       "        vertical-align: middle;\n",
       "    }\n",
       "\n",
       "    .dataframe tbody tr th {\n",
       "        vertical-align: top;\n",
       "    }\n",
       "\n",
       "    .dataframe thead th {\n",
       "        text-align: right;\n",
       "    }\n",
       "</style>\n",
       "<table border=\"1\" class=\"dataframe\">\n",
       "  <thead>\n",
       "    <tr style=\"text-align: right;\">\n",
       "      <th></th>\n",
       "      <th>Occurrence</th>\n",
       "      <th>Sector</th>\n",
       "      <th>Product</th>\n",
       "      <th>Area (Ha)</th>\n",
       "      <th>Production-T (Tons)</th>\n",
       "      <th>yield (Tons/Ha)</th>\n",
       "    </tr>\n",
       "  </thead>\n",
       "  <tbody>\n",
       "    <tr>\n",
       "      <th>0</th>\n",
       "      <td>2010/2011</td>\n",
       "      <td>Cereals</td>\n",
       "      <td>Barley</td>\n",
       "      <td>2,025,897.69</td>\n",
       "      <td>2,317,611.45</td>\n",
       "      <td>1.14</td>\n",
       "    </tr>\n",
       "    <tr>\n",
       "      <th>1</th>\n",
       "      <td>2010/2011</td>\n",
       "      <td>Cereals</td>\n",
       "      <td>Durum wheat</td>\n",
       "      <td>957,200.00</td>\n",
       "      <td>1,847,957.93</td>\n",
       "      <td>1.93</td>\n",
       "    </tr>\n",
       "    <tr>\n",
       "      <th>2</th>\n",
       "      <td>2010/2011</td>\n",
       "      <td>Cereals</td>\n",
       "      <td>Other cereals</td>\n",
       "      <td>3,200.00</td>\n",
       "      <td>2,740.00</td>\n",
       "      <td>0.86</td>\n",
       "    </tr>\n",
       "    <tr>\n",
       "      <th>3</th>\n",
       "      <td>2010/2011</td>\n",
       "      <td>Cereals</td>\n",
       "      <td>Rice</td>\n",
       "      <td>2,550.00</td>\n",
       "      <td>17,840.00</td>\n",
       "      <td>7.00</td>\n",
       "    </tr>\n",
       "    <tr>\n",
       "      <th>4</th>\n",
       "      <td>2010/2011</td>\n",
       "      <td>Cereals</td>\n",
       "      <td>Soft wheat</td>\n",
       "      <td>2,131,000.00</td>\n",
       "      <td>4,169,864.72</td>\n",
       "      <td>1.96</td>\n",
       "    </tr>\n",
       "    <tr>\n",
       "      <th>...</th>\n",
       "      <td>...</td>\n",
       "      <td>...</td>\n",
       "      <td>...</td>\n",
       "      <td>...</td>\n",
       "      <td>...</td>\n",
       "      <td>...</td>\n",
       "    </tr>\n",
       "    <tr>\n",
       "      <th>1080</th>\n",
       "      <td>2019/2020</td>\n",
       "      <td>olive trees</td>\n",
       "      <td>Olivier</td>\n",
       "      <td>1,068,894.52</td>\n",
       "      <td>1,409,266.45</td>\n",
       "      <td>1.32</td>\n",
       "    </tr>\n",
       "    <tr>\n",
       "      <th>1081</th>\n",
       "      <td>2019/2020</td>\n",
       "      <td>sugar fields</td>\n",
       "      <td>Sugar beet</td>\n",
       "      <td>57,588.80</td>\n",
       "      <td>3,631,553.60</td>\n",
       "      <td>63.06</td>\n",
       "    </tr>\n",
       "    <tr>\n",
       "      <th>1082</th>\n",
       "      <td>2019/2020</td>\n",
       "      <td>sugar fields</td>\n",
       "      <td>Sugar cane</td>\n",
       "      <td>11,763.00</td>\n",
       "      <td>792,492.00</td>\n",
       "      <td>67.37</td>\n",
       "    </tr>\n",
       "    <tr>\n",
       "      <th>1083</th>\n",
       "      <td>2019/2020</td>\n",
       "      <td>vines</td>\n",
       "      <td>table grape</td>\n",
       "      <td>33,091.70</td>\n",
       "      <td>276,326.80</td>\n",
       "      <td>8.35</td>\n",
       "    </tr>\n",
       "    <tr>\n",
       "      <th>1084</th>\n",
       "      <td>2019/2020</td>\n",
       "      <td>vines</td>\n",
       "      <td>wine grape</td>\n",
       "      <td>6,312.90</td>\n",
       "      <td>120,576.00</td>\n",
       "      <td>19.10</td>\n",
       "    </tr>\n",
       "  </tbody>\n",
       "</table>\n",
       "<p>1085 rows × 6 columns</p>\n",
       "</div>"
      ],
      "text/plain": [
       "     Occurrence        Sector        Product    Area (Ha)  \\\n",
       "0     2010/2011       Cereals         Barley 2,025,897.69   \n",
       "1     2010/2011       Cereals    Durum wheat   957,200.00   \n",
       "2     2010/2011       Cereals  Other cereals     3,200.00   \n",
       "3     2010/2011       Cereals           Rice     2,550.00   \n",
       "4     2010/2011       Cereals     Soft wheat 2,131,000.00   \n",
       "...         ...           ...            ...          ...   \n",
       "1080  2019/2020   olive trees        Olivier 1,068,894.52   \n",
       "1081  2019/2020  sugar fields     Sugar beet    57,588.80   \n",
       "1082  2019/2020  sugar fields     Sugar cane    11,763.00   \n",
       "1083  2019/2020         vines    table grape    33,091.70   \n",
       "1084  2019/2020         vines     wine grape     6,312.90   \n",
       "\n",
       "      Production-T (Tons)  yield (Tons/Ha)  \n",
       "0            2,317,611.45             1.14  \n",
       "1            1,847,957.93             1.93  \n",
       "2                2,740.00             0.86  \n",
       "3               17,840.00             7.00  \n",
       "4            4,169,864.72             1.96  \n",
       "...                   ...              ...  \n",
       "1080         1,409,266.45             1.32  \n",
       "1081         3,631,553.60            63.06  \n",
       "1082           792,492.00            67.37  \n",
       "1083           276,326.80             8.35  \n",
       "1084           120,576.00            19.10  \n",
       "\n",
       "[1085 rows x 6 columns]"
      ]
     },
     "execution_count": 156,
     "metadata": {},
     "output_type": "execute_result"
    }
   ],
   "source": [
    "df3 = df\n",
    "df3['yield (Tons/Ha)'] = df3['Production-T (Tons)']/df3['Area (Ha)']\n",
    "df3 = df3.fillna(0)\n",
    "df3"
   ]
  },
  {
   "cell_type": "code",
   "execution_count": 6,
   "id": "93526115-05ec-4922-b6a9-04d484d081fd",
   "metadata": {},
   "outputs": [
    {
     "data": {
      "application/vnd.plotly.v1+json": {
       "config": {
        "plotlyServerURL": "https://plot.ly"
       },
       "data": [
        {
         "hovertemplate": "<b>%{hovertext}</b><br><br>Sector=Cereals<br>Production-T (Tons)=%{x}<br>yeild (Tons/Ha)=%{y}<br>Area (Ha)=%{marker.size}<extra></extra>",
         "hovertext": [
          "Barley",
          "Durum wheat",
          "Other cereals",
          "Rice",
          "Soft wheat",
          "Sorghum",
          "corn",
          "oats"
         ],
         "legendgroup": "Cereals",
         "marker": {
          "color": "#636efa",
          "size": [
           2025897.6923491633,
           957199.999999999,
           3200,
           2550,
           2131000,
           9880,
           191888,
           54230
          ],
          "sizemode": "area",
          "sizeref": 591.9444444444445,
          "symbol": "circle"
         },
         "mode": "markers",
         "name": "Cereals",
         "orientation": "v",
         "showlegend": true,
         "type": "scatter",
         "x": [
          2317611.446458893,
          1847957.9251199474,
          2740,
          17840,
          4169864.7196335876,
          7914.99999999999,
          221298.69999999987,
          36764.97999999999
         ],
         "xaxis": "x",
         "y": [
          1.143992342363285,
          1.930587050898401,
          0.85625,
          6.996078431372549,
          1.9567642982794875,
          0.8011133603238856,
          1.1532701367464346,
          0.6779454176654985
         ],
         "yaxis": "y"
        },
        {
         "hovertemplate": "<b>%{hovertext}</b><br><br>Sector=Citrus<br>Production-T (Tons)=%{x}<br>yeild (Tons/Ha)=%{y}<br>Area (Ha)=%{marker.size}<extra></extra>",
         "hovertext": [
          "Blood Orange_Washington",
          "Grapefruit",
          "Lemon",
          "Orange_Morocco late",
          "Orange_Navel",
          "Orange_Navel lane late",
          "Orange_Navel late",
          "Orange_Navelina",
          "Orange_Others",
          "Orange_Salustiana",
          "Other citrus fruits",
          "Small fruit_Clementine",
          "Small fruit_Fortune",
          "Small fruit_Nador cott",
          "Small fruit_Nour",
          "Small fruit_Nova",
          "Small fruit_Nules",
          "Small fruit_Ortanique",
          "Small fruit_Others"
         ],
         "legendgroup": "Citrus",
         "marker": {
          "color": "#EF553B",
          "size": [
           2569.6,
           54.19,
           2834.23,
           21522.960000000003,
           15791.48,
           1215.23,
           406.5,
           37.55,
           3737.5400000000004,
           1102.06,
           488.96000000000004,
           27218.809999999998,
           29,
           2897.5,
           6635.21,
           814.34,
           5895.01,
           710.4,
           5546.4400000000005
          ],
          "sizemode": "area",
          "sizeref": 591.9444444444445,
          "symbol": "circle"
         },
         "mode": "markers",
         "name": "Citrus",
         "orientation": "v",
         "showlegend": true,
         "type": "scatter",
         "x": [
          56247.19000000001,
          689.45,
          93176.72,
          414549.44,
          300867.41,
          21384.2,
          5659.54,
          666.9,
          25951.9,
          33260.48,
          2537.85,
          440654.37,
          551,
          30060,
          121053.6,
          13610.93,
          79966.35,
          17236.35,
          49897.91
         ],
         "xaxis": "x",
         "y": [
          21.889473069738486,
          12.72282708986898,
          32.875497048581096,
          19.260800559030912,
          19.052515027090557,
          17.596833521226436,
          13.92260762607626,
          17.760319573901466,
          6.943577861374059,
          30.180280565486456,
          5.190301865183246,
          16.189332671046238,
          19,
          10.374460742018982,
          18.24412490335649,
          16.71406292212098,
          13.565091492635297,
          24.262880067567565,
          8.996385068620592
         ],
         "yaxis": "y"
        },
        {
         "hovertemplate": "<b>%{hovertext}</b><br><br>Sector=Date palms<br>Production-T (Tons)=%{x}<br>yeild (Tons/Ha)=%{y}<br>Area (Ha)=%{marker.size}<extra></extra>",
         "hovertext": [
          "Date palm"
         ],
         "legendgroup": "Date palms",
         "marker": {
          "color": "#00cc96",
          "size": [
           54476.19
          ],
          "sizemode": "area",
          "sizeref": 591.9444444444445,
          "symbol": "circle"
         },
         "mode": "markers",
         "name": "Date palms",
         "orientation": "v",
         "showlegend": true,
         "type": "scatter",
         "x": [
          102961.76
         ],
         "xaxis": "x",
         "y": [
          1.890032324213569
         ],
         "yaxis": "y"
        },
        {
         "hovertemplate": "<b>%{hovertext}</b><br><br>Sector=Fallow<br>Production-T (Tons)=%{x}<br>yeild (Tons/Ha)=%{y}<br>Area (Ha)=%{marker.size}<extra></extra>",
         "hovertext": [
          "Fallow"
         ],
         "legendgroup": "Fallow",
         "marker": {
          "color": "#ab63fa",
          "size": [
           1497814.0666294429
          ],
          "sizemode": "area",
          "sizeref": 591.9444444444445,
          "symbol": "circle"
         },
         "mode": "markers",
         "name": "Fallow",
         "orientation": "v",
         "showlegend": true,
         "type": "scatter",
         "x": [
          0
         ],
         "xaxis": "x",
         "y": [
          0
         ],
         "yaxis": "y"
        },
        {
         "hovertemplate": "<b>%{hovertext}</b><br><br>Sector=Industrial<br>Production-T (Tons)=%{x}<br>yeild (Tons/Ha)=%{y}<br>Area (Ha)=%{marker.size}<extra></extra>",
         "hovertext": [
          "Broom corn",
          "Cannabis",
          "Cayenne pepper",
          "Coriander harvested",
          "Henna",
          "Pickle",
          "Saffron",
          "caper",
          "rosebush"
         ],
         "legendgroup": "Industrial",
         "marker": {
          "color": "#FFA15A",
          "size": [
           310,
           97000,
           7,
           3520,
           3280,
           60,
           1060,
           21581,
           368
          ],
          "sizemode": "area",
          "sizeref": 591.9444444444445,
          "symbol": "circle"
         },
         "mode": "markers",
         "name": "Industrial",
         "orientation": "v",
         "showlegend": true,
         "type": "scatter",
         "x": [
          372,
          0,
          14,
          4493.4,
          10038,
          2.7,
          4.899999999999991,
          19490,
          231
         ],
         "xaxis": "x",
         "y": [
          1.2,
          0,
          2,
          1.2765340909090908,
          3.0603658536585368,
          0.045000000000000005,
          0.004622641509433954,
          0.9031092164403873,
          0.6277173913043478
         ],
         "yaxis": "y"
        },
        {
         "hovertemplate": "<b>%{hovertext}</b><br><br>Sector=Legumes<br>Production-T (Tons)=%{x}<br>yeild (Tons/Ha)=%{y}<br>Area (Ha)=%{marker.size}<extra></extra>",
         "hovertext": [
          "Bean",
          "Chickpea",
          "Lens",
          "Orobe",
          "Other legumes",
          "Pea",
          "field bean"
         ],
         "legendgroup": "Legumes",
         "marker": {
          "color": "#19d3f3",
          "size": [
           199618,
           88785,
           57987,
           10050,
           22406.3,
           50244,
           2410
          ],
          "sizemode": "area",
          "sizeref": 591.9444444444445,
          "symbol": "circle"
         },
         "mode": "markers",
         "name": "Legumes",
         "orientation": "v",
         "showlegend": true,
         "type": "scatter",
         "x": [
          170552.9499999999,
          45734,
          45438.700000000004,
          6497.999999999998,
          31175.899999999998,
          39788.25,
          18500
         ],
         "xaxis": "x",
         "y": [
          0.8543966475969096,
          0.515109534268176,
          0.7836014968872335,
          0.6465671641791043,
          1.3913899215845542,
          0.791900525435873,
          7.676348547717843
         ],
         "yaxis": "y"
        },
        {
         "hovertemplate": "<b>%{hovertext}</b><br><br>Sector=Oilseeds<br>Production-T (Tons)=%{x}<br>yeild (Tons/Ha)=%{y}<br>Area (Ha)=%{marker.size}<extra></extra>",
         "hovertext": [
          "Peanut",
          "Sesame",
          "Sunflower"
         ],
         "legendgroup": "Oilseeds",
         "marker": {
          "color": "#FF6692",
          "size": [
           17840,
           1190,
           36573
          ],
          "sizemode": "area",
          "sizeref": 591.9444444444445,
          "symbol": "circle"
         },
         "mode": "markers",
         "name": "Oilseeds",
         "orientation": "v",
         "showlegend": true,
         "type": "scatter",
         "x": [
          39710,
          1137,
          48131.19999999999
         ],
         "xaxis": "x",
         "y": [
          2.225896860986547,
          0.9554621848739496,
          1.3160309517950397
         ],
         "yaxis": "y"
        },
        {
         "hovertemplate": "<b>%{hovertext}</b><br><br>Sector=Rosaceae<br>Production-T (Tons)=%{x}<br>yeild (Tons/Ha)=%{y}<br>Area (Ha)=%{marker.size}<extra></extra>",
         "hovertext": [
          "Apple tree",
          "Apricot tree",
          "Banana tree",
          "Carob tree",
          "Cherry tree",
          "Fig tree",
          "Grenadier",
          "Lawyer",
          "Medlar",
          "Other fruit plantations",
          "Pear tree",
          "Pecan",
          "Pistachio",
          "Quince",
          "Walnut",
          "peach-nectarine",
          "plum tree"
         ],
         "legendgroup": "Rosaceae",
         "marker": {
          "color": "#B6E880",
          "size": [
           37728.073899999894,
           12505.75,
           6625.8,
           457,
           2096,
           51449.130000000005,
           7063.9400000000005,
           2772,
           477,
           4072.23,
           3402,
           115,
           91,
           3833.75,
           5110.7,
           5395.86,
           12926.69897857141
          ],
          "sizemode": "area",
          "sizeref": 591.9444444444445,
          "symbol": "circle"
         },
         "mode": "markers",
         "name": "Rosaceae",
         "orientation": "v",
         "showlegend": true,
         "type": "scatter",
         "x": [
          517588.9561166196,
          159124,
          277297,
          1943,
          8210,
          114769.67451163697,
          83081,
          33519,
          4563,
          47693.229999999996,
          36177,
          369,
          101.6,
          31994.25,
          9339.1,
          74771,
          64767.65249159694
         ],
         "xaxis": "x",
         "y": [
          13.71893400888989,
          12.724066929212562,
          41.85109722599535,
          4.25164113785558,
          3.9169847328244276,
          2.23074082130518,
          11.761283363108973,
          12.091991341991342,
          9.566037735849056,
          11.711821287108046,
          10.634038800705467,
          3.208695652173913,
          1.1164835164835165,
          8.34541897619824,
          1.827362200872679,
          13.85710526218249,
          5.010378333939878
         ],
         "yaxis": "y"
        },
        {
         "hovertemplate": "<b>%{hovertext}</b><br><br>Sector=almond trees<br>Production-T (Tons)=%{x}<br>yeild (Tons/Ha)=%{y}<br>Area (Ha)=%{marker.size}<extra></extra>",
         "hovertext": [
          "Almond"
         ],
         "legendgroup": "almond trees",
         "marker": {
          "color": "#FF97FF",
          "size": [
           143969.12999999995
          ],
          "sizemode": "area",
          "sizeref": 591.9444444444445,
          "symbol": "circle"
         },
         "mode": "markers",
         "name": "almond trees",
         "orientation": "v",
         "showlegend": true,
         "type": "scatter",
         "x": [
          101381.76000000004
         ],
         "xaxis": "x",
         "y": [
          0.7041909609372514
         ],
         "yaxis": "y"
        },
        {
         "hovertemplate": "<b>%{hovertext}</b><br><br>Sector=fodder<br>Production-T (Tons)=%{x}<br>yeild (Tons/Ha)=%{y}<br>Area (Ha)=%{marker.size}<extra></extra>",
         "hovertext": [
          "Alfalfa",
          "Feed barley",
          "Forage mixture",
          "Forage sorghum",
          "Lupine",
          "Triticale",
          "bersim",
          "corn forage",
          "field peas",
          "green oats",
          "oat vetch"
         ],
         "legendgroup": "fodder",
         "marker": {
          "color": "#FECB52",
          "size": [
           105081,
           109383.2,
           31510,
           5972,
           3240,
           2690,
           62101,
           37650,
           13871,
           40156,
           23490
          ],
          "sizemode": "area",
          "sizeref": 591.9444444444445,
          "symbol": "circle"
         },
         "mode": "markers",
         "name": "fodder",
         "orientation": "v",
         "showlegend": true,
         "type": "scatter",
         "x": [
          5562553.846153846,
          1844154.0277777778,
          438074,
          357200,
          89630,
          12174,
          3459569.8113207547,
          1484195.7173913042,
          75800,
          111613.1,
          275661
         ],
         "xaxis": "x",
         "y": [
          52.93586705640264,
          16.85957283913597,
          13.902697556331324,
          59.812458137977224,
          27.66358024691358,
          4.525650557620818,
          55.70876171592655,
          39.420868987816846,
          5.464638454329176,
          2.779487498754856,
          11.735249042145593
         ],
         "yaxis": "y"
        },
        {
         "hovertemplate": "<b>%{hovertext}</b><br><br>Sector=market gardening<br>Production-T (Tons)=%{x}<br>yeild (Tons/Ha)=%{y}<br>Area (Ha)=%{marker.size}<extra></extra>",
         "hovertext": [
          "Artichoke",
          "Asparagus",
          "Blueberry",
          "Carrot",
          "Cauliflower",
          "Cucumber",
          "Eggplant",
          "Garlic",
          "Green onion",
          "Melon",
          "Mint",
          "Niora",
          "Onion",
          "Other vegetable crops",
          "Potato",
          "Raspberry",
          "Small Green Pea",
          "Tomato",
          "Turnip",
          "Watermelon",
          "Yam",
          "apple cabbage",
          "chili pepper",
          "green bean",
          "strawberries tree",
          "vegetable beet",
          "zucchini squash"
         ],
         "legendgroup": "market gardening",
         "marker": {
          "color": "#636efa",
          "size": [
           2769,
           0,
           239.9999999999992,
           12944,
           3636.5045478865704,
           1039.9879232591913,
           1775.148054727509,
           1513,
           179,
           24770.33012306046,
           2125,
           1648,
           30690.3,
           24922.97426314342,
           57846.22082091263,
           309.9999999999993,
           20685.10876710235,
           17127.840709317432,
           7651.861041045631,
           15407.287013681876,
           825,
           863,
           4178.867079416036,
           6886.950202552931,
           2516.669189023924,
           330,
           8109.852021707558
          ],
          "sizemode": "area",
          "sizeref": 591.9444444444445,
          "symbol": "circle"
         },
         "mode": "markers",
         "name": "market gardening",
         "orientation": "v",
         "showlegend": true,
         "type": "scatter",
         "x": [
          43137,
          0,
          3008.628999999987,
          427733.5,
          104569.12649121208,
          51223.75877333575,
          34823.59329751388,
          22376,
          2864,
          777605.1465950276,
          55319,
          31953,
          860912.5,
          560597.977415536,
          1721402.2128676805,
          4133.007999999994,
          160136.24605227212,
          1217905.0981695657,
          162184.9964763726,
          579982.3983243785,
          17582,
          10341,
          143128.2775703488,
          113379.83652035333,
          110716.158910846,
          5713,
          219608.86431108275
         ],
         "xaxis": "x",
         "y": [
          15.578548212351029,
          0,
          12.535954166666654,
          33.044924289245984,
          28.75539549427611,
          49.25418615709203,
          19.617289501443537,
          14.78916060806345,
          16,
          31.392603277059266,
          26.032470588235295,
          19.38895631067961,
          28.051615657064286,
          22.493221374647856,
          29.75824848086458,
          13.332283870967753,
          7.741619725343346,
          71.10675063127096,
          21.195496834873246,
          37.64338249877129,
          21.311515151515152,
          11.982618771726536,
          34.25049776657406,
          16.462996418694075,
          43.99313163355675,
          17.312121212121212,
          27.079268983362205
         ],
         "yaxis": "y"
        },
        {
         "hovertemplate": "<b>%{hovertext}</b><br><br>Sector=olive trees<br>Production-T (Tons)=%{x}<br>yeild (Tons/Ha)=%{y}<br>Area (Ha)=%{marker.size}<extra></extra>",
         "hovertext": [
          "Olivier"
         ],
         "legendgroup": "olive trees",
         "marker": {
          "color": "#EF553B",
          "size": [
           838875.7199999995
          ],
          "sizemode": "area",
          "sizeref": 591.9444444444445,
          "symbol": "circle"
         },
         "mode": "markers",
         "name": "olive trees",
         "orientation": "v",
         "showlegend": true,
         "type": "scatter",
         "x": [
          1405223.5700000005
         ],
         "xaxis": "x",
         "y": [
          1.6751272405404716
         ],
         "yaxis": "y"
        },
        {
         "hovertemplate": "<b>%{hovertext}</b><br><br>Sector=sugar fields<br>Production-T (Tons)=%{x}<br>yeild (Tons/Ha)=%{y}<br>Area (Ha)=%{marker.size}<extra></extra>",
         "hovertext": [
          "Sugar beet",
          "Sugar cane"
         ],
         "legendgroup": "sugar fields",
         "marker": {
          "color": "#00cc96",
          "size": [
           51729.5,
           7645
          ],
          "sizemode": "area",
          "sizeref": 591.9444444444445,
          "symbol": "circle"
         },
         "mode": "markers",
         "name": "sugar fields",
         "orientation": "v",
         "showlegend": true,
         "type": "scatter",
         "x": [
          3035142.5,
          763913
         ],
         "xaxis": "x",
         "y": [
          58.673339197169895,
          99.92321778940484
         ],
         "yaxis": "y"
        },
        {
         "hovertemplate": "<b>%{hovertext}</b><br><br>Sector=vines<br>Production-T (Tons)=%{x}<br>yeild (Tons/Ha)=%{y}<br>Area (Ha)=%{marker.size}<extra></extra>",
         "hovertext": [
          "table grape",
          "wine grape"
         ],
         "legendgroup": "vines",
         "marker": {
          "color": "#ab63fa",
          "size": [
           34062.916949999984,
           9198.568399999998
          ],
          "sizemode": "area",
          "sizeref": 591.9444444444445,
          "symbol": "circle"
         },
         "mode": "markers",
         "name": "vines",
         "orientation": "v",
         "showlegend": true,
         "type": "scatter",
         "x": [
          203780.45900723827,
          89033.33001999998
         ],
         "xaxis": "x",
         "y": [
          5.982472355681164,
          9.679042014842222
         ],
         "yaxis": "y"
        }
       ],
       "layout": {
        "legend": {
         "itemsizing": "constant",
         "title": {
          "text": "Sector"
         },
         "tracegroupgap": 0
        },
        "margin": {
         "t": 60
        },
        "template": {
         "data": {
          "bar": [
           {
            "error_x": {
             "color": "#2a3f5f"
            },
            "error_y": {
             "color": "#2a3f5f"
            },
            "marker": {
             "line": {
              "color": "#E5ECF6",
              "width": 0.5
             },
             "pattern": {
              "fillmode": "overlay",
              "size": 10,
              "solidity": 0.2
             }
            },
            "type": "bar"
           }
          ],
          "barpolar": [
           {
            "marker": {
             "line": {
              "color": "#E5ECF6",
              "width": 0.5
             },
             "pattern": {
              "fillmode": "overlay",
              "size": 10,
              "solidity": 0.2
             }
            },
            "type": "barpolar"
           }
          ],
          "carpet": [
           {
            "aaxis": {
             "endlinecolor": "#2a3f5f",
             "gridcolor": "white",
             "linecolor": "white",
             "minorgridcolor": "white",
             "startlinecolor": "#2a3f5f"
            },
            "baxis": {
             "endlinecolor": "#2a3f5f",
             "gridcolor": "white",
             "linecolor": "white",
             "minorgridcolor": "white",
             "startlinecolor": "#2a3f5f"
            },
            "type": "carpet"
           }
          ],
          "choropleth": [
           {
            "colorbar": {
             "outlinewidth": 0,
             "ticks": ""
            },
            "type": "choropleth"
           }
          ],
          "contour": [
           {
            "colorbar": {
             "outlinewidth": 0,
             "ticks": ""
            },
            "colorscale": [
             [
              0,
              "#0d0887"
             ],
             [
              0.1111111111111111,
              "#46039f"
             ],
             [
              0.2222222222222222,
              "#7201a8"
             ],
             [
              0.3333333333333333,
              "#9c179e"
             ],
             [
              0.4444444444444444,
              "#bd3786"
             ],
             [
              0.5555555555555556,
              "#d8576b"
             ],
             [
              0.6666666666666666,
              "#ed7953"
             ],
             [
              0.7777777777777778,
              "#fb9f3a"
             ],
             [
              0.8888888888888888,
              "#fdca26"
             ],
             [
              1,
              "#f0f921"
             ]
            ],
            "type": "contour"
           }
          ],
          "contourcarpet": [
           {
            "colorbar": {
             "outlinewidth": 0,
             "ticks": ""
            },
            "type": "contourcarpet"
           }
          ],
          "heatmap": [
           {
            "colorbar": {
             "outlinewidth": 0,
             "ticks": ""
            },
            "colorscale": [
             [
              0,
              "#0d0887"
             ],
             [
              0.1111111111111111,
              "#46039f"
             ],
             [
              0.2222222222222222,
              "#7201a8"
             ],
             [
              0.3333333333333333,
              "#9c179e"
             ],
             [
              0.4444444444444444,
              "#bd3786"
             ],
             [
              0.5555555555555556,
              "#d8576b"
             ],
             [
              0.6666666666666666,
              "#ed7953"
             ],
             [
              0.7777777777777778,
              "#fb9f3a"
             ],
             [
              0.8888888888888888,
              "#fdca26"
             ],
             [
              1,
              "#f0f921"
             ]
            ],
            "type": "heatmap"
           }
          ],
          "heatmapgl": [
           {
            "colorbar": {
             "outlinewidth": 0,
             "ticks": ""
            },
            "colorscale": [
             [
              0,
              "#0d0887"
             ],
             [
              0.1111111111111111,
              "#46039f"
             ],
             [
              0.2222222222222222,
              "#7201a8"
             ],
             [
              0.3333333333333333,
              "#9c179e"
             ],
             [
              0.4444444444444444,
              "#bd3786"
             ],
             [
              0.5555555555555556,
              "#d8576b"
             ],
             [
              0.6666666666666666,
              "#ed7953"
             ],
             [
              0.7777777777777778,
              "#fb9f3a"
             ],
             [
              0.8888888888888888,
              "#fdca26"
             ],
             [
              1,
              "#f0f921"
             ]
            ],
            "type": "heatmapgl"
           }
          ],
          "histogram": [
           {
            "marker": {
             "pattern": {
              "fillmode": "overlay",
              "size": 10,
              "solidity": 0.2
             }
            },
            "type": "histogram"
           }
          ],
          "histogram2d": [
           {
            "colorbar": {
             "outlinewidth": 0,
             "ticks": ""
            },
            "colorscale": [
             [
              0,
              "#0d0887"
             ],
             [
              0.1111111111111111,
              "#46039f"
             ],
             [
              0.2222222222222222,
              "#7201a8"
             ],
             [
              0.3333333333333333,
              "#9c179e"
             ],
             [
              0.4444444444444444,
              "#bd3786"
             ],
             [
              0.5555555555555556,
              "#d8576b"
             ],
             [
              0.6666666666666666,
              "#ed7953"
             ],
             [
              0.7777777777777778,
              "#fb9f3a"
             ],
             [
              0.8888888888888888,
              "#fdca26"
             ],
             [
              1,
              "#f0f921"
             ]
            ],
            "type": "histogram2d"
           }
          ],
          "histogram2dcontour": [
           {
            "colorbar": {
             "outlinewidth": 0,
             "ticks": ""
            },
            "colorscale": [
             [
              0,
              "#0d0887"
             ],
             [
              0.1111111111111111,
              "#46039f"
             ],
             [
              0.2222222222222222,
              "#7201a8"
             ],
             [
              0.3333333333333333,
              "#9c179e"
             ],
             [
              0.4444444444444444,
              "#bd3786"
             ],
             [
              0.5555555555555556,
              "#d8576b"
             ],
             [
              0.6666666666666666,
              "#ed7953"
             ],
             [
              0.7777777777777778,
              "#fb9f3a"
             ],
             [
              0.8888888888888888,
              "#fdca26"
             ],
             [
              1,
              "#f0f921"
             ]
            ],
            "type": "histogram2dcontour"
           }
          ],
          "mesh3d": [
           {
            "colorbar": {
             "outlinewidth": 0,
             "ticks": ""
            },
            "type": "mesh3d"
           }
          ],
          "parcoords": [
           {
            "line": {
             "colorbar": {
              "outlinewidth": 0,
              "ticks": ""
             }
            },
            "type": "parcoords"
           }
          ],
          "pie": [
           {
            "automargin": true,
            "type": "pie"
           }
          ],
          "scatter": [
           {
            "fillpattern": {
             "fillmode": "overlay",
             "size": 10,
             "solidity": 0.2
            },
            "type": "scatter"
           }
          ],
          "scatter3d": [
           {
            "line": {
             "colorbar": {
              "outlinewidth": 0,
              "ticks": ""
             }
            },
            "marker": {
             "colorbar": {
              "outlinewidth": 0,
              "ticks": ""
             }
            },
            "type": "scatter3d"
           }
          ],
          "scattercarpet": [
           {
            "marker": {
             "colorbar": {
              "outlinewidth": 0,
              "ticks": ""
             }
            },
            "type": "scattercarpet"
           }
          ],
          "scattergeo": [
           {
            "marker": {
             "colorbar": {
              "outlinewidth": 0,
              "ticks": ""
             }
            },
            "type": "scattergeo"
           }
          ],
          "scattergl": [
           {
            "marker": {
             "colorbar": {
              "outlinewidth": 0,
              "ticks": ""
             }
            },
            "type": "scattergl"
           }
          ],
          "scattermapbox": [
           {
            "marker": {
             "colorbar": {
              "outlinewidth": 0,
              "ticks": ""
             }
            },
            "type": "scattermapbox"
           }
          ],
          "scatterpolar": [
           {
            "marker": {
             "colorbar": {
              "outlinewidth": 0,
              "ticks": ""
             }
            },
            "type": "scatterpolar"
           }
          ],
          "scatterpolargl": [
           {
            "marker": {
             "colorbar": {
              "outlinewidth": 0,
              "ticks": ""
             }
            },
            "type": "scatterpolargl"
           }
          ],
          "scatterternary": [
           {
            "marker": {
             "colorbar": {
              "outlinewidth": 0,
              "ticks": ""
             }
            },
            "type": "scatterternary"
           }
          ],
          "surface": [
           {
            "colorbar": {
             "outlinewidth": 0,
             "ticks": ""
            },
            "colorscale": [
             [
              0,
              "#0d0887"
             ],
             [
              0.1111111111111111,
              "#46039f"
             ],
             [
              0.2222222222222222,
              "#7201a8"
             ],
             [
              0.3333333333333333,
              "#9c179e"
             ],
             [
              0.4444444444444444,
              "#bd3786"
             ],
             [
              0.5555555555555556,
              "#d8576b"
             ],
             [
              0.6666666666666666,
              "#ed7953"
             ],
             [
              0.7777777777777778,
              "#fb9f3a"
             ],
             [
              0.8888888888888888,
              "#fdca26"
             ],
             [
              1,
              "#f0f921"
             ]
            ],
            "type": "surface"
           }
          ],
          "table": [
           {
            "cells": {
             "fill": {
              "color": "#EBF0F8"
             },
             "line": {
              "color": "white"
             }
            },
            "header": {
             "fill": {
              "color": "#C8D4E3"
             },
             "line": {
              "color": "white"
             }
            },
            "type": "table"
           }
          ]
         },
         "layout": {
          "annotationdefaults": {
           "arrowcolor": "#2a3f5f",
           "arrowhead": 0,
           "arrowwidth": 1
          },
          "autotypenumbers": "strict",
          "coloraxis": {
           "colorbar": {
            "outlinewidth": 0,
            "ticks": ""
           }
          },
          "colorscale": {
           "diverging": [
            [
             0,
             "#8e0152"
            ],
            [
             0.1,
             "#c51b7d"
            ],
            [
             0.2,
             "#de77ae"
            ],
            [
             0.3,
             "#f1b6da"
            ],
            [
             0.4,
             "#fde0ef"
            ],
            [
             0.5,
             "#f7f7f7"
            ],
            [
             0.6,
             "#e6f5d0"
            ],
            [
             0.7,
             "#b8e186"
            ],
            [
             0.8,
             "#7fbc41"
            ],
            [
             0.9,
             "#4d9221"
            ],
            [
             1,
             "#276419"
            ]
           ],
           "sequential": [
            [
             0,
             "#0d0887"
            ],
            [
             0.1111111111111111,
             "#46039f"
            ],
            [
             0.2222222222222222,
             "#7201a8"
            ],
            [
             0.3333333333333333,
             "#9c179e"
            ],
            [
             0.4444444444444444,
             "#bd3786"
            ],
            [
             0.5555555555555556,
             "#d8576b"
            ],
            [
             0.6666666666666666,
             "#ed7953"
            ],
            [
             0.7777777777777778,
             "#fb9f3a"
            ],
            [
             0.8888888888888888,
             "#fdca26"
            ],
            [
             1,
             "#f0f921"
            ]
           ],
           "sequentialminus": [
            [
             0,
             "#0d0887"
            ],
            [
             0.1111111111111111,
             "#46039f"
            ],
            [
             0.2222222222222222,
             "#7201a8"
            ],
            [
             0.3333333333333333,
             "#9c179e"
            ],
            [
             0.4444444444444444,
             "#bd3786"
            ],
            [
             0.5555555555555556,
             "#d8576b"
            ],
            [
             0.6666666666666666,
             "#ed7953"
            ],
            [
             0.7777777777777778,
             "#fb9f3a"
            ],
            [
             0.8888888888888888,
             "#fdca26"
            ],
            [
             1,
             "#f0f921"
            ]
           ]
          },
          "colorway": [
           "#636efa",
           "#EF553B",
           "#00cc96",
           "#ab63fa",
           "#FFA15A",
           "#19d3f3",
           "#FF6692",
           "#B6E880",
           "#FF97FF",
           "#FECB52"
          ],
          "font": {
           "color": "#2a3f5f"
          },
          "geo": {
           "bgcolor": "white",
           "lakecolor": "white",
           "landcolor": "#E5ECF6",
           "showlakes": true,
           "showland": true,
           "subunitcolor": "white"
          },
          "hoverlabel": {
           "align": "left"
          },
          "hovermode": "closest",
          "mapbox": {
           "style": "light"
          },
          "paper_bgcolor": "white",
          "plot_bgcolor": "#E5ECF6",
          "polar": {
           "angularaxis": {
            "gridcolor": "white",
            "linecolor": "white",
            "ticks": ""
           },
           "bgcolor": "#E5ECF6",
           "radialaxis": {
            "gridcolor": "white",
            "linecolor": "white",
            "ticks": ""
           }
          },
          "scene": {
           "xaxis": {
            "backgroundcolor": "#E5ECF6",
            "gridcolor": "white",
            "gridwidth": 2,
            "linecolor": "white",
            "showbackground": true,
            "ticks": "",
            "zerolinecolor": "white"
           },
           "yaxis": {
            "backgroundcolor": "#E5ECF6",
            "gridcolor": "white",
            "gridwidth": 2,
            "linecolor": "white",
            "showbackground": true,
            "ticks": "",
            "zerolinecolor": "white"
           },
           "zaxis": {
            "backgroundcolor": "#E5ECF6",
            "gridcolor": "white",
            "gridwidth": 2,
            "linecolor": "white",
            "showbackground": true,
            "ticks": "",
            "zerolinecolor": "white"
           }
          },
          "shapedefaults": {
           "line": {
            "color": "#2a3f5f"
           }
          },
          "ternary": {
           "aaxis": {
            "gridcolor": "white",
            "linecolor": "white",
            "ticks": ""
           },
           "baxis": {
            "gridcolor": "white",
            "linecolor": "white",
            "ticks": ""
           },
           "bgcolor": "#E5ECF6",
           "caxis": {
            "gridcolor": "white",
            "linecolor": "white",
            "ticks": ""
           }
          },
          "title": {
           "x": 0.05
          },
          "xaxis": {
           "automargin": true,
           "gridcolor": "white",
           "linecolor": "white",
           "ticks": "",
           "title": {
            "standoff": 15
           },
           "zerolinecolor": "white",
           "zerolinewidth": 2
          },
          "yaxis": {
           "automargin": true,
           "gridcolor": "white",
           "linecolor": "white",
           "ticks": "",
           "title": {
            "standoff": 15
           },
           "zerolinecolor": "white",
           "zerolinewidth": 2
          }
         }
        },
        "xaxis": {
         "anchor": "y",
         "domain": [
          0,
          1
         ],
         "title": {
          "text": "Production-T (Tons)"
         },
         "type": "log"
        },
        "yaxis": {
         "anchor": "x",
         "domain": [
          0,
          1
         ],
         "title": {
          "text": "yeild (Tons/Ha)"
         }
        }
       }
      }
     },
     "metadata": {},
     "output_type": "display_data"
    }
   ],
   "source": [
    "fig = px.scatter(df3.query(\"Occurrence=='2010/2011'\"), x=\"Production-T (Tons)\", y=\"yield (Tons/Ha)\",\n",
    "\t         size=\"Area (Ha)\", color=\"Sector\",\n",
    "                 hover_name=\"Product\", log_x=True, size_max=60)\n",
    "fig.show()"
   ]
  },
  {
   "cell_type": "code",
   "execution_count": 138,
   "id": "8aa05955-8265-4dc4-bc9a-902561ba332c",
   "metadata": {},
   "outputs": [
    {
     "data": {
      "application/vnd.plotly.v1+json": {
       "config": {
        "plotlyServerURL": "https://plot.ly"
       },
       "data": [
        {
         "branchvalues": "total",
         "customdata": [
          [
           107126.03301999989,
           50.907549045355346
          ],
          [
           159100.12,
           0.6349799107631098
          ],
          [
           43940.34348476849,
           12.202881668258343
          ],
          [
           12359.5824,
           7.303932453251819
          ],
          [
           3264,
           16.92218137254902
          ],
          [
           199,
           12.50251256281407
          ],
          [
           8394.400000000001,
           40.79803202134756
          ],
          [
           1585216,
           1.033352064260588
          ],
          [
           190965.5,
           0.8728293854125484
          ],
          [
           3313.16,
           23.597598667133493
          ],
          [
           599.96,
           12.850306687112473
          ],
          [
           673.9,
           6.017213236385221
          ],
          [
           15830.699999999999,
           29.945346699766908
          ],
          [
           2147,
           24.272473218444336
          ],
          [
           1765,
           8.795240793201133
          ],
          [
           72564,
           0.8613009205666708
          ],
          [
           300,
           1.5
          ],
          [
           1560.4499999999998,
           35.52773238488898
          ],
          [
           57744.11000000001,
           1.7698947996600864
          ],
          [
           904755,
           1.5586300952750514
          ],
          [
           2424.75,
           28.988967934838644
          ],
          [
           108107.60365999998,
           16.563940966000324
          ],
          [
           54770.700000000004,
           2.310606898213825
          ],
          [
           17370,
           11.665227403569373
          ],
          [
           939,
           8.209797657082001
          ],
          [
           42,
           11.30952380952381
          ],
          [
           1793,
           31.602342442833237
          ],
          [
           10180.859999999999,
           11.95831737200982
          ],
          [
           1800,
           0.6666666666666666
          ],
          [
           2599.2,
           12.271275777162204
          ],
          [
           2758.401367924528,
           9.589100730228564
          ],
          [
           45862.6,
           0.6687529708302625
          ],
          [
           1345,
           23.833457249070634
          ],
          [
           434.6,
           13.65209387942936
          ],
          [
           22624.55,
           32.55514474321036
          ],
          [
           3451.2,
           24.663740148354197
          ],
          [
           1376.6,
           20.23390963242772
          ],
          [
           922973.39,
           1.7044974503544466
          ],
          [
           29349.299999999996,
           27.724920185489946
          ],
          [
           23497.12882352941,
           21.103958531781487
          ],
          [
           18352.48941101152,
           18.995051463476443
          ],
          [
           1421.68,
           10.50869393956446
          ],
          [
           1669.7099999999991,
           4.50677063681717
          ],
          [
           148.21,
           1.6598070305647392
          ],
          [
           3702.3899999999994,
           7.367308684390348
          ],
          [
           1088.58,
           26.260816843961834
          ],
          [
           2140,
           0.394392523364486
          ],
          [
           3511,
           1.3820563941896895
          ],
          [
           776.625,
           17.074675680025752
          ],
          [
           7497.983346288829,
           12.323980426781878
          ],
          [
           13988.82,
           3.741362745392392
          ],
          [
           24050,
           1.3418004158004158
          ],
          [
           14667.6,
           16.383559682565654
          ],
          [
           41487,
           0.564429821389833
          ],
          [
           16090,
           2.3850839030453694
          ],
          [
           3235.5,
           12.235228249111417
          ],
          [
           75,
           2.9066666666666667
          ],
          [
           63,
           1.7730158730158732
          ],
          [
           63514.5,
           30.717103968385175
          ],
          [
           3463.4100000000003,
           13.247550824187721
          ],
          [
           1192.07,
           13.171088946118939
          ],
          [
           4406.84,
           7.5
          ],
          [
           1000,
           0.005
          ],
          [
           700,
           0.7114285714285714
          ],
          [
           15966.6,
           6.132457755564741
          ],
          [
           30541.35,
           21.172142228834165
          ],
          [
           48,
           21
          ],
          [
           3936.26,
           21.081940725460207
          ],
          [
           7164.74,
           26.62398093670809
          ],
          [
           763.8699999999999,
           14.14180423370469
          ],
          [
           7474.61,
           22.378737262991987
          ],
          [
           513.39,
           20.657550789847857
          ],
          [
           6759.199999999999,
           11.145662208545385
          ],
          [
           2081403,
           1.780388432517503
          ],
          [
           4800,
           1
          ],
          [
           52954,
           60.59252464403066
          ],
          [
           7911,
           35.21059284540513
          ],
          [
           20898,
           1.309608574983252
          ],
          [
           400,
           0.875
          ],
          [
           15717,
           78.3198256664758
          ],
          [
           495,
           5.171717171717172
          ],
          [
           7006.2,
           21.911449858696585
          ],
          [
           6960.45,
           1.7970842402430862
          ],
          [
           15968.7,
           45.395993412112446
          ],
          [
           841,
           19.524375743162903
          ],
          [
           2510,
           25.682071713147412
          ],
          [
           67874.9243,
           50.42083870139948
          ],
          [
           20868,
           1.285719762315507
          ],
          [
           4514,
           36.60788657509969
          ],
          [
           137447,
           0.7084832699149491
          ],
          [
           41006.32372,
           36.401016247939815
          ],
          [
           12650,
           3.193517786561265
          ],
          [
           16410,
           4.910786106032907
          ],
          [
           9048.400000000001,
           16.862870783784977
          ],
          [
           33382,
           12.779836438799355
          ],
          [
           14980,
           12.86068090787717
          ],
          [
           41832,
           0.8753490151080512
          ],
          [
           6905.96,
           10.686712636621122
          ],
          [
           14815.626089052992,
           6.268510100616999
          ],
          [
           3445,
           39.88040638606677
          ],
          [
           34051.79414999998,
           7.185349352078854
          ],
          [
           750,
           26.268
          ],
          [
           9272.469599999999,
           12.325387413510636
          ],
          [
           8269.124388318862,
           26.061187361557213
          ],
          [
           "(?)",
           1.5653171461539892
          ],
          [
           "(?)",
           20.68186844729272
          ],
          [
           57744.11000000001,
           1.7698947996600864
          ],
          [
           "(?)",
           1.25809423523967
          ],
          [
           "(?)",
           1.1370820203666354
          ],
          [
           "(?)",
           1.9281651378380722
          ],
          [
           "(?)",
           16.48183364859674
          ],
          [
           159100.12,
           0.6349799107631098
          ],
          [
           "(?)",
           41.458391506963274
          ],
          [
           "(?)",
           38.156272186581674
          ],
          [
           922973.39,
           1.7044974503544466
          ],
          [
           "(?)",
           58.565044638248054
          ],
          [
           "(?)",
           8.821846628646831
          ]
         ],
         "domain": {
          "x": [
           0,
           1
          ],
          "y": [
           0,
           1
          ]
         },
         "hovertemplate": "labels=%{label}<br>Production-T (Tons)=%{value}<br>parent=%{parent}<br>id=%{id}<br>Area (Ha)=%{customdata[0]}<br>yeild (Tons/Ha)=%{color}<extra></extra>",
         "ids": [
          "fodder/Alfalfa",
          "almond trees/Almond",
          "Rosaceae/Apple tree",
          "Rosaceae/Apricot tree",
          "market gardening/Artichoke",
          "market gardening/Asparagus",
          "Rosaceae/Banana tree",
          "Cereals/Barley",
          "Legumes/Bean",
          "Citrus/Blood Orange_Washington",
          "market gardening/Blueberry",
          "Rosaceae/Carob tree",
          "market gardening/Carrot",
          "market gardening/Cauliflower",
          "Rosaceae/Cherry tree",
          "Legumes/Chickpea",
          "Industrial/Coriander harvested",
          "market gardening/Cucumber",
          "Date palms/Date palm",
          "Cereals/Durum wheat",
          "market gardening/Eggplant",
          "fodder/Feed barley",
          "Rosaceae/Fig tree",
          "fodder/Forage mixture",
          "market gardening/Garlic",
          "Citrus/Grapefruit",
          "market gardening/Green onion",
          "Rosaceae/Grenadier",
          "Industrial/Henna",
          "Rosaceae/Lawyer",
          "Citrus/Lemon",
          "Legumes/Lens",
          "fodder/Lupine",
          "Rosaceae/Medlar",
          "market gardening/Melon",
          "market gardening/Mint",
          "market gardening/Niora",
          "olive trees/Olivier",
          "market gardening/Onion",
          "Citrus/Orange_Morocco late",
          "Citrus/Orange_Navel",
          "Citrus/Orange_Navel lane late",
          "Citrus/Orange_Navel late",
          "Citrus/Orange_Navelina",
          "Citrus/Orange_Others",
          "Citrus/Orange_Salustiana",
          "Legumes/Orobe",
          "Cereals/Other cereals",
          "Citrus/Other citrus fruits",
          "fodder/Other forage crops",
          "Rosaceae/Other fruit plantations",
          "Legumes/Other legumes",
          "market gardening/Other vegetable crops",
          "Legumes/Pea",
          "Oilseeds/Peanut",
          "Rosaceae/Pear tree",
          "Rosaceae/Pecan",
          "Rosaceae/Pistachio",
          "market gardening/Potato",
          "Rosaceae/Quince",
          "market gardening/Raspberry",
          "Cereals/Rice",
          "Industrial/Saffron",
          "Oilseeds/Sesame",
          "market gardening/Small Green Pea",
          "Citrus/Small fruit_Clementine",
          "Citrus/Small fruit_Fortune",
          "Citrus/Small fruit_Nador cott",
          "Citrus/Small fruit_Nour",
          "Citrus/Small fruit_Nova",
          "Citrus/Small fruit_Nules",
          "Citrus/Small fruit_Ortanique",
          "Citrus/Small fruit_Others",
          "Cereals/Soft wheat",
          "Cereals/Sorghum",
          "sugar fields/Sugar beet",
          "sugar fields/Sugar cane",
          "Oilseeds/Sunflower",
          "Industrial/Tobacco",
          "market gardening/Tomato",
          "fodder/Triticale",
          "market gardening/Turnip",
          "Rosaceae/Walnut",
          "market gardening/Watermelon",
          "market gardening/Yam",
          "market gardening/apple cabbage",
          "fodder/bersim",
          "Industrial/caper",
          "market gardening/chili pepper",
          "Cereals/corn",
          "fodder/corn forage",
          "Legumes/field bean",
          "fodder/field peas",
          "market gardening/green bean",
          "fodder/green oats",
          "fodder/oat vetch",
          "Cereals/oats",
          "Rosaceae/peach-nectarine",
          "Rosaceae/plum tree",
          "market gardening/strawberries tree",
          "vines/table grape",
          "market gardening/vegetable beet",
          "vines/wine grape",
          "market gardening/zucchini squash",
          "Cereals",
          "Citrus",
          "Date palms",
          "Industrial",
          "Legumes",
          "Oilseeds",
          "Rosaceae",
          "almond trees",
          "fodder",
          "market gardening",
          "olive trees",
          "sugar fields",
          "vines"
         ],
         "labels": [
          "Alfalfa",
          "Almond",
          "Apple tree",
          "Apricot tree",
          "Artichoke",
          "Asparagus",
          "Banana tree",
          "Barley",
          "Bean",
          "Blood Orange_Washington",
          "Blueberry",
          "Carob tree",
          "Carrot",
          "Cauliflower",
          "Cherry tree",
          "Chickpea",
          "Coriander harvested",
          "Cucumber",
          "Date palm",
          "Durum wheat",
          "Eggplant",
          "Feed barley",
          "Fig tree",
          "Forage mixture",
          "Garlic",
          "Grapefruit",
          "Green onion",
          "Grenadier",
          "Henna",
          "Lawyer",
          "Lemon",
          "Lens",
          "Lupine",
          "Medlar",
          "Melon",
          "Mint",
          "Niora",
          "Olivier",
          "Onion",
          "Orange_Morocco late",
          "Orange_Navel",
          "Orange_Navel lane late",
          "Orange_Navel late",
          "Orange_Navelina",
          "Orange_Others",
          "Orange_Salustiana",
          "Orobe",
          "Other cereals",
          "Other citrus fruits",
          "Other forage crops",
          "Other fruit plantations",
          "Other legumes",
          "Other vegetable crops",
          "Pea",
          "Peanut",
          "Pear tree",
          "Pecan",
          "Pistachio",
          "Potato",
          "Quince",
          "Raspberry",
          "Rice",
          "Saffron",
          "Sesame",
          "Small Green Pea",
          "Small fruit_Clementine",
          "Small fruit_Fortune",
          "Small fruit_Nador cott",
          "Small fruit_Nour",
          "Small fruit_Nova",
          "Small fruit_Nules",
          "Small fruit_Ortanique",
          "Small fruit_Others",
          "Soft wheat",
          "Sorghum",
          "Sugar beet",
          "Sugar cane",
          "Sunflower",
          "Tobacco",
          "Tomato",
          "Triticale",
          "Turnip",
          "Walnut",
          "Watermelon",
          "Yam",
          "apple cabbage",
          "bersim",
          "caper",
          "chili pepper",
          "corn",
          "corn forage",
          "field bean",
          "field peas",
          "green bean",
          "green oats",
          "oat vetch",
          "oats",
          "peach-nectarine",
          "plum tree",
          "strawberries tree",
          "table grape",
          "vegetable beet",
          "wine grape",
          "zucchini squash",
          "Cereals",
          "Citrus",
          "Date palms",
          "Industrial",
          "Legumes",
          "Oilseeds",
          "Rosaceae",
          "almond trees",
          "fodder",
          "market gardening",
          "olive trees",
          "sugar fields",
          "vines"
         ],
         "marker": {
          "coloraxis": "coloraxis",
          "colors": [
           50.907549045355346,
           0.6349799107631098,
           12.202881668258343,
           7.303932453251819,
           16.92218137254902,
           12.50251256281407,
           40.79803202134756,
           1.033352064260588,
           0.8728293854125484,
           23.597598667133493,
           12.850306687112473,
           6.017213236385221,
           29.945346699766908,
           24.272473218444336,
           8.795240793201133,
           0.8613009205666708,
           1.5,
           35.52773238488898,
           1.7698947996600864,
           1.5586300952750514,
           28.988967934838644,
           16.563940966000324,
           2.310606898213825,
           11.665227403569373,
           8.209797657082001,
           11.30952380952381,
           31.602342442833237,
           11.95831737200982,
           0.6666666666666666,
           12.271275777162204,
           9.589100730228564,
           0.6687529708302625,
           23.833457249070634,
           13.65209387942936,
           32.55514474321036,
           24.663740148354197,
           20.23390963242772,
           1.7044974503544466,
           27.724920185489946,
           21.103958531781487,
           18.995051463476443,
           10.50869393956446,
           4.50677063681717,
           1.6598070305647392,
           7.367308684390348,
           26.260816843961834,
           0.394392523364486,
           1.3820563941896895,
           17.074675680025752,
           12.323980426781878,
           3.741362745392392,
           1.3418004158004158,
           16.383559682565654,
           0.564429821389833,
           2.3850839030453694,
           12.235228249111417,
           2.9066666666666667,
           1.7730158730158732,
           30.717103968385175,
           13.247550824187721,
           13.171088946118939,
           7.5,
           0.005,
           0.7114285714285714,
           6.132457755564741,
           21.172142228834165,
           21,
           21.081940725460207,
           26.62398093670809,
           14.14180423370469,
           22.378737262991987,
           20.657550789847857,
           11.145662208545385,
           1.780388432517503,
           1,
           60.59252464403066,
           35.21059284540513,
           1.309608574983252,
           0.875,
           78.3198256664758,
           5.171717171717172,
           21.911449858696585,
           1.7970842402430862,
           45.395993412112446,
           19.524375743162903,
           25.682071713147412,
           50.42083870139948,
           1.285719762315507,
           36.60788657509969,
           0.7084832699149491,
           36.401016247939815,
           3.193517786561265,
           4.910786106032907,
           16.862870783784977,
           12.779836438799355,
           12.86068090787717,
           0.8753490151080512,
           10.686712636621122,
           6.268510100616999,
           39.88040638606677,
           7.185349352078854,
           26.268,
           12.325387413510636,
           26.061187361557213,
           1.5653171461539892,
           20.68186844729272,
           1.7698947996600864,
           1.25809423523967,
           1.1370820203666354,
           1.9281651378380722,
           16.48183364859674,
           0.6349799107631098,
           41.458391506963274,
           38.156272186581674,
           1.7044974503544466,
           58.565044638248054,
           8.821846628646831
          ]
         },
         "name": "",
         "parents": [
          "fodder",
          "almond trees",
          "Rosaceae",
          "Rosaceae",
          "market gardening",
          "market gardening",
          "Rosaceae",
          "Cereals",
          "Legumes",
          "Citrus",
          "market gardening",
          "Rosaceae",
          "market gardening",
          "market gardening",
          "Rosaceae",
          "Legumes",
          "Industrial",
          "market gardening",
          "Date palms",
          "Cereals",
          "market gardening",
          "fodder",
          "Rosaceae",
          "fodder",
          "market gardening",
          "Citrus",
          "market gardening",
          "Rosaceae",
          "Industrial",
          "Rosaceae",
          "Citrus",
          "Legumes",
          "fodder",
          "Rosaceae",
          "market gardening",
          "market gardening",
          "market gardening",
          "olive trees",
          "market gardening",
          "Citrus",
          "Citrus",
          "Citrus",
          "Citrus",
          "Citrus",
          "Citrus",
          "Citrus",
          "Legumes",
          "Cereals",
          "Citrus",
          "fodder",
          "Rosaceae",
          "Legumes",
          "market gardening",
          "Legumes",
          "Oilseeds",
          "Rosaceae",
          "Rosaceae",
          "Rosaceae",
          "market gardening",
          "Rosaceae",
          "market gardening",
          "Cereals",
          "Industrial",
          "Oilseeds",
          "market gardening",
          "Citrus",
          "Citrus",
          "Citrus",
          "Citrus",
          "Citrus",
          "Citrus",
          "Citrus",
          "Citrus",
          "Cereals",
          "Cereals",
          "sugar fields",
          "sugar fields",
          "Oilseeds",
          "Industrial",
          "market gardening",
          "fodder",
          "market gardening",
          "Rosaceae",
          "market gardening",
          "market gardening",
          "market gardening",
          "fodder",
          "Industrial",
          "market gardening",
          "Cereals",
          "fodder",
          "Legumes",
          "fodder",
          "market gardening",
          "fodder",
          "fodder",
          "Cereals",
          "Rosaceae",
          "Rosaceae",
          "market gardening",
          "vines",
          "market gardening",
          "vines",
          "market gardening",
          "",
          "",
          "",
          "",
          "",
          "",
          "",
          "",
          "",
          "",
          "",
          "",
          ""
         ],
         "type": "sunburst",
         "values": [
          5453523.78,
          101025.38000000006,
          536198.8120072563,
          90273.555,
          55234,
          2488,
          342475,
          1638086.2258989124,
          166680.3,
          78182.62,
          7709.67,
          4055,
          474055.8,
          52113,
          15523.6,
          62499.4399999999,
          450,
          55439.25,
          102201,
          1410178.371850579,
          70291,
          1790687.965,
          126553.55723999997,
          202625,
          7709,
          475,
          56663,
          121745.9549999999,
          1200,
          31895.5,
          26450.58857142856,
          30670.749999999996,
          32056,
          5933.2,
          736545.5,
          85119.5,
          27854,
          1573205.79,
          813707,
          495882.4323076921,
          348606.4808450703,
          14940,
          7524.999999999993,
          246,
          27276.649999999976,
          28586.99999999997,
          844,
          4852.4,
          13260.619999999999,
          92405,
          52337.25,
          32270.3,
          240307.5,
          23416.5,
          38375.99999999999,
          39587.08099999999,
          218,
          111.7,
          1950981.5000000002,
          45881.7,
          15700.86,
          33051.3,
          5,
          498,
          97914.5,
          646625.8060606043,
          1008,
          82984,
          190753.90117646992,
          10802.5,
          167272.33333333253,
          10605.37999999999,
          75335.75999999995,
          3705705.8246072284,
          4800,
          3208616.55,
          278551,
          27368.2,
          350,
          1230952.7,
          2560,
          153516,
          12508.514999999989,
          724915,
          16420,
          64462,
          3422310.61,
          26830.4,
          165248,
          97378.9,
          1492671.856,
          40398,
          80586,
          152582,
          426616.5,
          192653,
          36617.6,
          73802.01000000001,
          92871.90178619343,
          137388,
          244674.03703282485,
          19701,
          114286.78009999999,
          215503.2,
          6930670.622356719,
          2226820.0722945975,
          102201,
          28835.4,
          356779.28999999986,
          66242.2,
          1591972.3370334497,
          101025.38000000006,
          13188695.711000001,
          7630520.98,
          1573205.79,
          3487167.55,
          358960.81713282486
         ]
        }
       ],
       "layout": {
        "coloraxis": {
         "cmid": null,
         "colorbar": {
          "title": {
           "text": "yeild (Tons/Ha)"
          }
         },
         "colorscale": [
          [
           0,
           "rgb(254, 252, 205)"
          ],
          [
           0.09090909090909091,
           "rgb(239, 225, 156)"
          ],
          [
           0.18181818181818182,
           "rgb(221, 201, 106)"
          ],
          [
           0.2727272727272727,
           "rgb(194, 182, 59)"
          ],
          [
           0.36363636363636365,
           "rgb(157, 167, 21)"
          ],
          [
           0.45454545454545453,
           "rgb(116, 153, 5)"
          ],
          [
           0.5454545454545454,
           "rgb(75, 138, 20)"
          ],
          [
           0.6363636363636364,
           "rgb(35, 121, 36)"
          ],
          [
           0.7272727272727273,
           "rgb(11, 100, 44)"
          ],
          [
           0.8181818181818182,
           "rgb(18, 78, 43)"
          ],
          [
           0.9090909090909091,
           "rgb(25, 56, 34)"
          ],
          [
           1,
           "rgb(23, 35, 18)"
          ]
         ]
        },
        "legend": {
         "tracegroupgap": 0
        },
        "margin": {
         "t": 60
        },
        "template": {
         "data": {
          "bar": [
           {
            "error_x": {
             "color": "#2a3f5f"
            },
            "error_y": {
             "color": "#2a3f5f"
            },
            "marker": {
             "line": {
              "color": "white",
              "width": 0.5
             },
             "pattern": {
              "fillmode": "overlay",
              "size": 10,
              "solidity": 0.2
             }
            },
            "type": "bar"
           }
          ],
          "barpolar": [
           {
            "marker": {
             "line": {
              "color": "white",
              "width": 0.5
             },
             "pattern": {
              "fillmode": "overlay",
              "size": 10,
              "solidity": 0.2
             }
            },
            "type": "barpolar"
           }
          ],
          "carpet": [
           {
            "aaxis": {
             "endlinecolor": "#2a3f5f",
             "gridcolor": "#C8D4E3",
             "linecolor": "#C8D4E3",
             "minorgridcolor": "#C8D4E3",
             "startlinecolor": "#2a3f5f"
            },
            "baxis": {
             "endlinecolor": "#2a3f5f",
             "gridcolor": "#C8D4E3",
             "linecolor": "#C8D4E3",
             "minorgridcolor": "#C8D4E3",
             "startlinecolor": "#2a3f5f"
            },
            "type": "carpet"
           }
          ],
          "choropleth": [
           {
            "colorbar": {
             "outlinewidth": 0,
             "ticks": ""
            },
            "type": "choropleth"
           }
          ],
          "contour": [
           {
            "colorbar": {
             "outlinewidth": 0,
             "ticks": ""
            },
            "colorscale": [
             [
              0,
              "#0d0887"
             ],
             [
              0.1111111111111111,
              "#46039f"
             ],
             [
              0.2222222222222222,
              "#7201a8"
             ],
             [
              0.3333333333333333,
              "#9c179e"
             ],
             [
              0.4444444444444444,
              "#bd3786"
             ],
             [
              0.5555555555555556,
              "#d8576b"
             ],
             [
              0.6666666666666666,
              "#ed7953"
             ],
             [
              0.7777777777777778,
              "#fb9f3a"
             ],
             [
              0.8888888888888888,
              "#fdca26"
             ],
             [
              1,
              "#f0f921"
             ]
            ],
            "type": "contour"
           }
          ],
          "contourcarpet": [
           {
            "colorbar": {
             "outlinewidth": 0,
             "ticks": ""
            },
            "type": "contourcarpet"
           }
          ],
          "heatmap": [
           {
            "colorbar": {
             "outlinewidth": 0,
             "ticks": ""
            },
            "colorscale": [
             [
              0,
              "#0d0887"
             ],
             [
              0.1111111111111111,
              "#46039f"
             ],
             [
              0.2222222222222222,
              "#7201a8"
             ],
             [
              0.3333333333333333,
              "#9c179e"
             ],
             [
              0.4444444444444444,
              "#bd3786"
             ],
             [
              0.5555555555555556,
              "#d8576b"
             ],
             [
              0.6666666666666666,
              "#ed7953"
             ],
             [
              0.7777777777777778,
              "#fb9f3a"
             ],
             [
              0.8888888888888888,
              "#fdca26"
             ],
             [
              1,
              "#f0f921"
             ]
            ],
            "type": "heatmap"
           }
          ],
          "heatmapgl": [
           {
            "colorbar": {
             "outlinewidth": 0,
             "ticks": ""
            },
            "colorscale": [
             [
              0,
              "#0d0887"
             ],
             [
              0.1111111111111111,
              "#46039f"
             ],
             [
              0.2222222222222222,
              "#7201a8"
             ],
             [
              0.3333333333333333,
              "#9c179e"
             ],
             [
              0.4444444444444444,
              "#bd3786"
             ],
             [
              0.5555555555555556,
              "#d8576b"
             ],
             [
              0.6666666666666666,
              "#ed7953"
             ],
             [
              0.7777777777777778,
              "#fb9f3a"
             ],
             [
              0.8888888888888888,
              "#fdca26"
             ],
             [
              1,
              "#f0f921"
             ]
            ],
            "type": "heatmapgl"
           }
          ],
          "histogram": [
           {
            "marker": {
             "pattern": {
              "fillmode": "overlay",
              "size": 10,
              "solidity": 0.2
             }
            },
            "type": "histogram"
           }
          ],
          "histogram2d": [
           {
            "colorbar": {
             "outlinewidth": 0,
             "ticks": ""
            },
            "colorscale": [
             [
              0,
              "#0d0887"
             ],
             [
              0.1111111111111111,
              "#46039f"
             ],
             [
              0.2222222222222222,
              "#7201a8"
             ],
             [
              0.3333333333333333,
              "#9c179e"
             ],
             [
              0.4444444444444444,
              "#bd3786"
             ],
             [
              0.5555555555555556,
              "#d8576b"
             ],
             [
              0.6666666666666666,
              "#ed7953"
             ],
             [
              0.7777777777777778,
              "#fb9f3a"
             ],
             [
              0.8888888888888888,
              "#fdca26"
             ],
             [
              1,
              "#f0f921"
             ]
            ],
            "type": "histogram2d"
           }
          ],
          "histogram2dcontour": [
           {
            "colorbar": {
             "outlinewidth": 0,
             "ticks": ""
            },
            "colorscale": [
             [
              0,
              "#0d0887"
             ],
             [
              0.1111111111111111,
              "#46039f"
             ],
             [
              0.2222222222222222,
              "#7201a8"
             ],
             [
              0.3333333333333333,
              "#9c179e"
             ],
             [
              0.4444444444444444,
              "#bd3786"
             ],
             [
              0.5555555555555556,
              "#d8576b"
             ],
             [
              0.6666666666666666,
              "#ed7953"
             ],
             [
              0.7777777777777778,
              "#fb9f3a"
             ],
             [
              0.8888888888888888,
              "#fdca26"
             ],
             [
              1,
              "#f0f921"
             ]
            ],
            "type": "histogram2dcontour"
           }
          ],
          "mesh3d": [
           {
            "colorbar": {
             "outlinewidth": 0,
             "ticks": ""
            },
            "type": "mesh3d"
           }
          ],
          "parcoords": [
           {
            "line": {
             "colorbar": {
              "outlinewidth": 0,
              "ticks": ""
             }
            },
            "type": "parcoords"
           }
          ],
          "pie": [
           {
            "automargin": true,
            "type": "pie"
           }
          ],
          "scatter": [
           {
            "marker": {
             "line": {
              "color": "#fff"
             }
            },
            "type": "scatter"
           }
          ],
          "scatter3d": [
           {
            "line": {
             "colorbar": {
              "outlinewidth": 0,
              "ticks": ""
             }
            },
            "marker": {
             "colorbar": {
              "outlinewidth": 0,
              "ticks": ""
             }
            },
            "type": "scatter3d"
           }
          ],
          "scattercarpet": [
           {
            "marker": {
             "colorbar": {
              "outlinewidth": 0,
              "ticks": ""
             }
            },
            "type": "scattercarpet"
           }
          ],
          "scattergeo": [
           {
            "marker": {
             "colorbar": {
              "outlinewidth": 0,
              "ticks": ""
             }
            },
            "type": "scattergeo"
           }
          ],
          "scattergl": [
           {
            "marker": {
             "line": {
              "color": "#fff"
             }
            },
            "type": "scattergl"
           }
          ],
          "scattermapbox": [
           {
            "marker": {
             "colorbar": {
              "outlinewidth": 0,
              "ticks": ""
             }
            },
            "type": "scattermapbox"
           }
          ],
          "scatterpolar": [
           {
            "marker": {
             "colorbar": {
              "outlinewidth": 0,
              "ticks": ""
             }
            },
            "type": "scatterpolar"
           }
          ],
          "scatterpolargl": [
           {
            "marker": {
             "colorbar": {
              "outlinewidth": 0,
              "ticks": ""
             }
            },
            "type": "scatterpolargl"
           }
          ],
          "scatterternary": [
           {
            "marker": {
             "colorbar": {
              "outlinewidth": 0,
              "ticks": ""
             }
            },
            "type": "scatterternary"
           }
          ],
          "surface": [
           {
            "colorbar": {
             "outlinewidth": 0,
             "ticks": ""
            },
            "colorscale": [
             [
              0,
              "#0d0887"
             ],
             [
              0.1111111111111111,
              "#46039f"
             ],
             [
              0.2222222222222222,
              "#7201a8"
             ],
             [
              0.3333333333333333,
              "#9c179e"
             ],
             [
              0.4444444444444444,
              "#bd3786"
             ],
             [
              0.5555555555555556,
              "#d8576b"
             ],
             [
              0.6666666666666666,
              "#ed7953"
             ],
             [
              0.7777777777777778,
              "#fb9f3a"
             ],
             [
              0.8888888888888888,
              "#fdca26"
             ],
             [
              1,
              "#f0f921"
             ]
            ],
            "type": "surface"
           }
          ],
          "table": [
           {
            "cells": {
             "fill": {
              "color": "#EBF0F8"
             },
             "line": {
              "color": "white"
             }
            },
            "header": {
             "fill": {
              "color": "#C8D4E3"
             },
             "line": {
              "color": "white"
             }
            },
            "type": "table"
           }
          ]
         },
         "layout": {
          "annotationdefaults": {
           "arrowcolor": "#2a3f5f",
           "arrowhead": 0,
           "arrowwidth": 1,
           "font": {
            "color": "#888"
           }
          },
          "autotypenumbers": "strict",
          "coloraxis": {
           "colorbar": {
            "outlinewidth": 0,
            "ticks": ""
           }
          },
          "colorscale": {
           "diverging": [
            [
             0,
             "#8e0152"
            ],
            [
             0.1,
             "#c51b7d"
            ],
            [
             0.2,
             "#de77ae"
            ],
            [
             0.3,
             "#f1b6da"
            ],
            [
             0.4,
             "#fde0ef"
            ],
            [
             0.5,
             "#f7f7f7"
            ],
            [
             0.6,
             "#e6f5d0"
            ],
            [
             0.7,
             "#b8e186"
            ],
            [
             0.8,
             "#7fbc41"
            ],
            [
             0.9,
             "#4d9221"
            ],
            [
             1,
             "#276419"
            ]
           ],
           "sequential": [
            [
             0,
             "#78c2ad"
            ],
            [
             0.1,
             "#8bc0a9"
            ],
            [
             0.2,
             "#9fbea5"
            ],
            [
             0.30000000000000004,
             "#b2bca1"
            ],
            [
             0.4,
             "#c5bb9d"
            ],
            [
             0.5,
             "#d9b998"
            ],
            [
             0.6000000000000001,
             "#ecb794"
            ],
            [
             0.7000000000000001,
             "#ffb590"
            ],
            [
             0.8,
             "#ffb38c"
            ],
            [
             0.9,
             "#ffb188"
            ],
            [
             1,
             "#ffaf84"
            ]
           ],
           "sequentialminus": [
            [
             0,
             "#0d0887"
            ],
            [
             0.1111111111111111,
             "#46039f"
            ],
            [
             0.2222222222222222,
             "#7201a8"
            ],
            [
             0.3333333333333333,
             "#9c179e"
            ],
            [
             0.4444444444444444,
             "#bd3786"
            ],
            [
             0.5555555555555556,
             "#d8576b"
            ],
            [
             0.6666666666666666,
             "#ed7953"
            ],
            [
             0.7777777777777778,
             "#fb9f3a"
            ],
            [
             0.8888888888888888,
             "#fdca26"
            ],
            [
             1,
             "#f0f921"
            ]
           ]
          },
          "colorway": [
           "#95dfc9",
           "#fa7851",
           "#007e1a",
           "#ffe57b",
           "#5eacbe"
          ],
          "font": {
           "color": "#888",
           "family": "system-ui,-apple-system,\"Segoe UI\",Roboto,\"Helvetica Neue\",Arial,\"Noto Sans\",\"Liberation Sans\",sans-serif,\"Apple Color Emoji\",\"Segoe UI Emoji\",\"Segoe UI Symbol\",\"Noto Color Emoji\""
          },
          "geo": {
           "bgcolor": "#fff",
           "lakecolor": "#fff",
           "landcolor": "#fff",
           "showlakes": true,
           "showland": true,
           "subunitcolor": "#C8D4E3"
          },
          "hoverlabel": {
           "align": "left",
           "font": {
            "family": "system-ui,-apple-system,\"Segoe UI\",Roboto,\"Helvetica Neue\",Arial,\"Noto Sans\",\"Liberation Sans\",sans-serif,\"Apple Color Emoji\",\"Segoe UI Emoji\",\"Segoe UI Symbol\",\"Noto Color Emoji\""
           }
          },
          "hovermode": "closest",
          "mapbox": {
           "style": "light"
          },
          "paper_bgcolor": "#ffffff",
          "piecolorway": [
           "#95dfc9",
           "#fa7851",
           "#007e1a",
           "#ffe57b",
           "#5eacbe"
          ],
          "plot_bgcolor": "#fff",
          "polar": {
           "angularaxis": {
            "gridcolor": "#EBF0F8",
            "linecolor": "#EBF0F8",
            "ticks": ""
           },
           "bgcolor": "white",
           "radialaxis": {
            "gridcolor": "#EBF0F8",
            "linecolor": "#EBF0F8",
            "ticks": ""
           }
          },
          "scene": {
           "xaxis": {
            "backgroundcolor": "white",
            "gridcolor": "#DFE8F3",
            "gridwidth": 2,
            "linecolor": "#EBF0F8",
            "showbackground": true,
            "ticks": "",
            "zerolinecolor": "#EBF0F8"
           },
           "yaxis": {
            "backgroundcolor": "white",
            "gridcolor": "#DFE8F3",
            "gridwidth": 2,
            "linecolor": "#EBF0F8",
            "showbackground": true,
            "ticks": "",
            "zerolinecolor": "#EBF0F8"
           },
           "zaxis": {
            "backgroundcolor": "white",
            "gridcolor": "#DFE8F3",
            "gridwidth": 2,
            "linecolor": "#EBF0F8",
            "showbackground": true,
            "ticks": "",
            "zerolinecolor": "#EBF0F8"
           }
          },
          "shapedefaults": {
           "line": {
            "color": "#2a3f5f"
           }
          },
          "ternary": {
           "aaxis": {
            "gridcolor": "#DFE8F3",
            "linecolor": "#A2B1C6",
            "ticks": ""
           },
           "baxis": {
            "gridcolor": "#DFE8F3",
            "linecolor": "#A2B1C6",
            "ticks": ""
           },
           "bgcolor": "white",
           "caxis": {
            "gridcolor": "#DFE8F3",
            "linecolor": "#A2B1C6",
            "ticks": ""
           }
          },
          "title": {
           "x": 0.05
          },
          "xaxis": {
           "automargin": true,
           "gridcolor": "#f5f5f5",
           "gridwidth": 0.5,
           "linecolor": "#EBF0F8",
           "ticks": "",
           "title": {
            "standoff": 15
           },
           "zerolinecolor": "#f5f5f5",
           "zerolinewidth": 2
          },
          "yaxis": {
           "automargin": true,
           "gridcolor": "#f5f5f5",
           "gridwidth": 0.5,
           "linecolor": "#EBF0F8",
           "ticks": "",
           "title": {
            "standoff": 15
           },
           "zerolinecolor": "#f5f5f5",
           "zerolinewidth": 2
          }
         }
        }
       }
      }
     },
     "metadata": {},
     "output_type": "display_data"
    }
   ],
   "source": [
    "fig = px.sunburst(df3[df3['Production-T (Tons)']!=0].query(\"Occurrence=='2013/2014'\"), path=['Sector', 'Product'], values='Production-T (Tons)',\n",
    "                  color='yeild (Tons/Ha)', hover_data=['Area (Ha)'],\n",
    "                  color_continuous_scale='speed',\n",
    "                  color_continuous_midpoint=np.average(df['yeild (Tons/Ha)'], weights=df['Area (Ha)']))\n",
    "fig.show()"
   ]
  },
  {
   "cell_type": "code",
   "execution_count": 157,
   "id": "02b13a53-bdd5-4da1-87da-feca300208f2",
   "metadata": {},
   "outputs": [],
   "source": [
    "from dash import dcc, html, Dash, dash_table, dash\n",
    "import dash_bootstrap_components as dbc\n",
    "from dash.dependencies import Input, Output\n",
    "from jupyter_dash import JupyterDash\n",
    "from dash.dash_table.Format import Format, Scheme\n",
    "from dash_bootstrap_templates import load_figure_template\n",
    "load_figure_template(\"minty\")"
   ]
  },
  {
   "cell_type": "code",
   "execution_count": 158,
   "id": "d3b21d02",
   "metadata": {},
   "outputs": [],
   "source": [
    "def drawTitle(text):\n",
    "    return html.H2(text, className=\"bg-primary text-white p-2 mb-2 text-center\")\n"
   ]
  },
  {
   "cell_type": "code",
   "execution_count": 159,
   "id": "4668c24f",
   "metadata": {},
   "outputs": [],
   "source": [
    "def drawBubbleChart(occurrence):\n",
    "    return px.scatter(df3.query(\"Occurrence==@occurrence\"), x=\"Production-T (Tons)\", y=\"yield (Tons/Ha)\",\n",
    "\t            size=\"Area (Ha)\", color=\"Sector\",\n",
    "                hover_name=\"Product\", template=\"minty\", log_x=True, size_max=60)"
   ]
  },
  {
   "cell_type": "code",
   "execution_count": 160,
   "id": "ab09982c",
   "metadata": {},
   "outputs": [],
   "source": [
    "def drawLineChart(sector):\n",
    "   #fig = px.line(df[df['Sector']==sector], x='Occurrence', y='Production-T (Tons)', color=\"Product\")\n",
    "   fig = px.histogram(df[df['Sector']==sector], x='Occurrence', y='Production-T (Tons)', color=\"Product\", barmode='group')\n",
    "   fig.update_xaxes(categoryorder='array', categoryarray= ['2010/2011', '2011/2012', '2012/2013', '2013/2014', '2014/2015',\n",
    "      '2015/2016', '2016/2017', '2017/2018', '2018/2019', '2019/2020'])\n",
    "   return fig"
   ]
  },
  {
   "cell_type": "code",
   "execution_count": 161,
   "id": "aad45616",
   "metadata": {},
   "outputs": [],
   "source": [
    "def drawBarChart():\n",
    "    return px.bar(df2, x=\"Occurrence\", y=\"Production-T (Tons)\", color=\"Sector\" ,title=\"Long-Form Input\")"
   ]
  },
  {
   "cell_type": "code",
   "execution_count": 166,
   "id": "45a466cf",
   "metadata": {},
   "outputs": [],
   "source": [
    "def drawPieChart(occurrence):\n",
    "    return px.sunburst(df3[df3['Production-T (Tons)']!=0].query(\"Occurrence==@occurrence\"), path=['Sector', 'Product'], values='Production-T (Tons)',\n",
    "                  color='yield (Tons/Ha)', hover_data=['Area (Ha)'],\n",
    "                  color_continuous_scale='algae',\n",
    "                  color_continuous_midpoint=np.average(df['yield (Tons/Ha)'], weights=df['Area (Ha)']), template='minty')"
   ]
  },
  {
   "cell_type": "code",
   "execution_count": 163,
   "id": "bd236be3",
   "metadata": {},
   "outputs": [],
   "source": [
    "def generate_table(dataframe, max_rows=10):\n",
    "    return dash_table.DataTable(\n",
    "    id='df-table',\n",
    "    columns=[\n",
    "        {'name': i, 'id': i, 'deletable': True,'type': 'numeric','format': Format(scheme=Scheme.fixed, precision=2),} for i in dataframe.columns\n",
    "    ],\n",
    "    page_current = 0,\n",
    "    page_size = max_rows,\n",
    "    page_action='custom',\n",
    "    #format=Format(precision=2, scheme=Scheme.fixed),\n",
    "    sort_action='custom',\n",
    "    sort_mode='single',\n",
    "    sort_by=[],\n",
    "    style_table={\"overflowX\": \"auto\"}\n",
    "    )\n"
   ]
  },
  {
   "cell_type": "code",
   "execution_count": 172,
   "id": "08c16d03-4f78-41f6-9ffc-cc7ff1717f94",
   "metadata": {},
   "outputs": [],
   "source": [
    "app = JupyterDash(__name__,external_stylesheets=[dbc.themes.MINTY])\n",
    "\n",
    "data = df\n",
    "\n",
    "\n",
    "app.layout = html.Div([\n",
    "    html.H1('Plant production in Morocco', className=\"bg-primary text-white p-5 mb-0 text-center\"),\n",
    "    html.H6('this dashboard presents the statistics of plant production by agricultural product and area for the period 2010-2020 in morocco.', \n",
    "    className=\"bg-light p-4 mb-0 text-center\"),\n",
    "    dbc.Row([\n",
    "        dbc.Col([\n",
    "                dbc.Card(\n",
    "                    [dbc.CardHeader(\"Vocabulary\"),\n",
    "                    dbc.CardBody([\n",
    "                        dbc.ListGroup(\n",
    "                            [\n",
    "                                dbc.ListGroupItem([html.H5(\"Occurrence:\", className=\"card-title\"),\n",
    "                                html.P(\n",
    "                                    \"It is the agricultural campaign, which runs from September 1 of year N to August 31 of year N+1\",\n",
    "                                    className=\"card-text\",\n",
    "                                ),]),\n",
    "                                dbc.ListGroupItem([html.H5('Sector: ', className=\"card-title\"),\n",
    "                                html.P(\n",
    "                                    \"Is an internal classification of the Department of Agriculture, each sector contains one or more agricultural products\",\n",
    "                                    className=\"card-text\",\n",
    "                                ),]),\n",
    "                                dbc.ListGroupItem([html.H5('Product:', className=\"card-title\"),\n",
    "                                html.P(\n",
    "                                    'These are agricultural products',\n",
    "                                    className=\"card-text\",\n",
    "                                ),]),\n",
    "                            ],\n",
    "                            flush=True,\n",
    "                        )])],\n",
    "                    style={\"width\": \"17rem\"}, color=\"primary\" ,outline=True),\n",
    "                ],width=3),\n",
    "        dbc.Col([dcc.Tabs(id=\"tabs\", value='tab-1', children=[\n",
    "            dcc.Tab(label='Data table', value='tab-1',className=\"p-2 border\"),\n",
    "            dcc.Tab(label='Production/occurrence', value='tab-4',className=\"p-2 border\"),\n",
    "            dcc.Tab(label='Production per sector', value='tab-3',className=\"p-2 border\"),\n",
    "            dcc.Tab(label='products yield', value='tab-2',className=\"p-2 border\"),\n",
    "            dcc.Tab(label='pie chart', value='tab-5',className=\"p-2 border\"),\n",
    "            ],),\n",
    "            html.Div(id='tabs-content-props')\n",
    "            ],width=9),\n",
    "        ], className=\"p-4 border\"),\n",
    "    html.P('Open data from the Ministry of Agriculture, Maritime Fisheries, Rural Development and Waters and Forests - Department of Agriculture.', \n",
    "    className=\"bg-light p-4 mb-0 text-center\"),   \n",
    "    #html.A(\"see more\", href = \"https://data.gov.ma/data/fr/dataset/production-vegetale-2010-2020\", className=\"bg-light p-4 mb-2 text-center\")\n",
    "])\n",
    "\n",
    "####################### CALLBACKs #########################\n",
    "\n",
    "@app.callback(Output('tabs-content-props', 'children'),\n",
    "              Input('tabs', 'value'))\n",
    "def render_content(tab):\n",
    "    if tab == 'tab-1':\n",
    "        return generate_table(data)\n",
    "    elif tab == 'tab-2':\n",
    "        return html.Div([\n",
    "            dcc.Dropdown(\n",
    "                id='years',\n",
    "                options = [{'label': i, 'value': i} for i in list(df['Occurrence'].unique())], \n",
    "                value='2010/2011'),\n",
    "            html.Div([\n",
    "                dcc.Graph(id='bubble-chart', className=\"border\")\n",
    "            ])\n",
    "        ])\n",
    "    elif tab == 'tab-3':\n",
    "        return html.Div([\n",
    "            dcc.Dropdown(\n",
    "                id='sector',\n",
    "                options = [{'label': i, 'value': i} for i in list(df['Sector'].unique())], \n",
    "                value='Cereals'),\n",
    "            html.Div([\n",
    "                dcc.Graph(id='line-chart', className=\"border\")\n",
    "            ])\n",
    "        ])\n",
    "    elif tab == 'tab-4':\n",
    "        return html.Div([\n",
    "            html.Div([\n",
    "                dcc.Graph(figure = drawBarChart(), className=\"border\")\n",
    "            ])\n",
    "        ])\n",
    "    elif tab == 'tab-5':\n",
    "        return html.Div([\n",
    "            dcc.Dropdown(\n",
    "                id='occurrence',\n",
    "                options = [{'label': i, 'value': i} for i in list(df['Occurrence'].unique())], \n",
    "                value='2011/2012'),\n",
    "            html.Div([\n",
    "                dcc.Graph(id='pie-chart', className=\"border\")\n",
    "            ])\n",
    "        ])\n",
    "\n",
    "@app.callback(\n",
    "    Output('bubble-chart', 'figure'),[Input('years', 'value')])\n",
    "def update_figure(years):\n",
    "    return drawBubbleChart(years)\n",
    "\n",
    "@app.callback(\n",
    "    Output('line-chart', 'figure'),[Input('sector', 'value')])\n",
    "def update_figure(sector):\n",
    "    return drawLineChart(sector)\n",
    "\n",
    "@app.callback(\n",
    "    Output('pie-chart', 'figure'),[Input('occurrence', 'value')])\n",
    "def update_figure(occurrence):\n",
    "    return drawPieChart(occurrence)\n",
    "\n",
    "@app.callback(\n",
    "    Output('df-table', 'data'),\n",
    "    Input('df-table', \"page_current\"),\n",
    "    Input('df-table', \"page_size\"),\n",
    "    Input('df-table', 'sort_by'))\n",
    "def update_table(page_current, page_size, sort_by):\n",
    "    if len(sort_by):\n",
    "        dff = data.sort_values(\n",
    "            sort_by[0]['column_id'],\n",
    "            ascending=sort_by[0]['direction'] == 'asc',\n",
    "            inplace=False\n",
    "        )\n",
    "    else:\n",
    "        # No sort is applied\n",
    "        dff = data\n",
    "\n",
    "    return dff.iloc[\n",
    "        page_current*page_size:(page_current+ 1)*page_size\n",
    "    ].to_dict('records')\n",
    "\n",
    "\n"
   ]
  },
  {
   "cell_type": "code",
   "execution_count": 173,
   "id": "0f48aef6",
   "metadata": {},
   "outputs": [
    {
     "name": "stdout",
     "output_type": "stream",
     "text": [
      "Dash app running on http://127.0.0.1:8050/\n"
     ]
    }
   ],
   "source": [
    "if __name__ == '__main__':\n",
    "    app.run_server(debug=True)"
   ]
  },
  {
   "cell_type": "code",
   "execution_count": null,
   "id": "2caadb2c",
   "metadata": {},
   "outputs": [],
   "source": []
  }
 ],
 "metadata": {
  "kernelspec": {
   "display_name": "Python 3.9.7 ('base')",
   "language": "python",
   "name": "python3"
  },
  "language_info": {
   "codemirror_mode": {
    "name": "ipython",
    "version": 3
   },
   "file_extension": ".py",
   "mimetype": "text/x-python",
   "name": "python",
   "nbconvert_exporter": "python",
   "pygments_lexer": "ipython3",
   "version": "3.9.7"
  },
  "vscode": {
   "interpreter": {
    "hash": "9ac3ee3e6bb58e84ac9643d716ebb746464aae9831b06a2b14df6c36d90fc3ea"
   }
  }
 },
 "nbformat": 4,
 "nbformat_minor": 5
}
